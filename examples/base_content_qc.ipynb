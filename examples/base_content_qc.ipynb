{
 "cells": [
  {
   "cell_type": "markdown",
   "metadata": {},
   "source": [
    "# Base Sequence Content QC for NGS Data\n",
    "\n",
    "This notebook demonstrates how to use the `base_content` function from the `polars_bio.qc` module to analyze the base sequence content of FASTQ files. This QC operation helps identify biases or issues in the sequencing process by showing the distribution of nucleotide bases (A, T, G, C, N) at each position in the reads."
   ]
  },
  {
   "cell_type": "code",
   "execution_count": 1,
   "metadata": {},
   "outputs": [
    {
     "name": "stderr",
     "output_type": "stream",
     "text": [
      "INFO:polars_bio:Creating BioSessionContext\n"
     ]
    }
   ],
   "source": [
    "import polars_bio as pb\n",
    "import polars as pl\n",
    "import pandas as pd\n",
    "import matplotlib.pyplot as plt\n",
    "import numpy as np\n",
    "import os\n",
    "\n",
    "\n",
    "# Set plotting style\n",
    "plt.style.use('ggplot')\n",
    "plt.rcParams['figure.figsize'] = (12, 6)"
   ]
  },
  {
   "cell_type": "markdown",
   "metadata": {},
   "source": [
    "## Loading FASTQ Data\n",
    "\n",
    "First, let's load a FASTQ file using the `read_fastq` function from polars-bio. We'll use the example FASTQ file from the fastqc-rs project."
   ]
  },
  {
   "cell_type": "code",
   "execution_count": 2,
   "metadata": {},
   "outputs": [
    {
     "name": "stderr",
     "output_type": "stream",
     "text": [
      "INFO:polars_bio:Table: err194147 registered for path: ../tests/data/ERR194147.fastq\n"
     ]
    },
    {
     "data": {
      "application/vnd.jupyter.widget-view+json": {
       "model_id": "894b237b38fa401ea739161662c521d9",
       "version_major": 2,
       "version_minor": 0
      },
      "text/plain": [
       "0rows [00:00, ?rows/s]"
      ]
     },
     "metadata": {},
     "output_type": "display_data"
    },
    {
     "name": "stderr",
     "output_type": "stream",
     "text": [
      "INFO:polars_bio:Table: err194147 registered for path: ../tests/data/ERR194147.fastq\n"
     ]
    },
    {
     "data": {
      "application/vnd.jupyter.widget-view+json": {
       "model_id": "610c2c70990c4e9582f4a96ad663ff52",
       "version_major": 2,
       "version_minor": 0
      },
      "text/plain": [
       "0rows [00:00, ?rows/s]"
      ]
     },
     "metadata": {},
     "output_type": "display_data"
    }
   ],
   "source": [
    "# Path to the example FASTQ file\n",
    "fastq_file = \"../tests/data/ERR194147.fastq\"\n",
    "\n",
    "# Read the FASTQ file\n",
    "pb.read_fastq(fastq_file).collect()\n",
    "df = pb.read_fastq(fastq_file).collect()\n"
   ]
  },
  {
   "cell_type": "code",
   "execution_count": 3,
   "metadata": {},
   "outputs": [
    {
     "data": {
      "application/vnd.jupyter.widget-view+json": {
       "model_id": "3bcfc9dd530a46d4be66e73e8551f957",
       "version_major": 2,
       "version_minor": 0
      },
      "text/plain": [
       "0rows [00:00, ?rows/s]"
      ]
     },
     "metadata": {},
     "output_type": "display_data"
    },
    {
     "data": {
      "text/html": [
       "<div><style>\n",
       ".dataframe > thead > tr,\n",
       ".dataframe > tbody > tr {\n",
       "  text-align: right;\n",
       "  white-space: pre-wrap;\n",
       "}\n",
       "</style>\n",
       "<small>shape: (6, 4)</small><table border=\"1\" class=\"dataframe\"><thead><tr><th>table_catalog</th><th>table_schema</th><th>table_name</th><th>table_type</th></tr><tr><td>str</td><td>str</td><td>str</td><td>str</td></tr></thead><tbody><tr><td>&quot;datafusion&quot;</td><td>&quot;public&quot;</td><td>&quot;err194147&quot;</td><td>&quot;BASE TABLE&quot;</td></tr><tr><td>&quot;datafusion&quot;</td><td>&quot;information_schema&quot;</td><td>&quot;tables&quot;</td><td>&quot;VIEW&quot;</td></tr><tr><td>&quot;datafusion&quot;</td><td>&quot;information_schema&quot;</td><td>&quot;views&quot;</td><td>&quot;VIEW&quot;</td></tr><tr><td>&quot;datafusion&quot;</td><td>&quot;information_schema&quot;</td><td>&quot;columns&quot;</td><td>&quot;VIEW&quot;</td></tr><tr><td>&quot;datafusion&quot;</td><td>&quot;information_schema&quot;</td><td>&quot;df_settings&quot;</td><td>&quot;VIEW&quot;</td></tr><tr><td>&quot;datafusion&quot;</td><td>&quot;information_schema&quot;</td><td>&quot;schemata&quot;</td><td>&quot;VIEW&quot;</td></tr></tbody></table></div>"
      ],
      "text/plain": [
       "shape: (6, 4)\n",
       "┌───────────────┬────────────────────┬─────────────┬────────────┐\n",
       "│ table_catalog ┆ table_schema       ┆ table_name  ┆ table_type │\n",
       "│ ---           ┆ ---                ┆ ---         ┆ ---        │\n",
       "│ str           ┆ str                ┆ str         ┆ str        │\n",
       "╞═══════════════╪════════════════════╪═════════════╪════════════╡\n",
       "│ datafusion    ┆ public             ┆ err194147   ┆ BASE TABLE │\n",
       "│ datafusion    ┆ information_schema ┆ tables      ┆ VIEW       │\n",
       "│ datafusion    ┆ information_schema ┆ views       ┆ VIEW       │\n",
       "│ datafusion    ┆ information_schema ┆ columns     ┆ VIEW       │\n",
       "│ datafusion    ┆ information_schema ┆ df_settings ┆ VIEW       │\n",
       "│ datafusion    ┆ information_schema ┆ schemata    ┆ VIEW       │\n",
       "└───────────────┴────────────────────┴─────────────┴────────────┘"
      ]
     },
     "execution_count": 3,
     "metadata": {},
     "output_type": "execute_result"
    }
   ],
   "source": [
    "# Register the DataFrame as a table\n",
    "pb.sql(\"show tables;\").collect()\n"
   ]
  },
  {
   "cell_type": "code",
   "execution_count": 4,
   "metadata": {},
   "outputs": [
    {
     "data": {
      "application/vnd.jupyter.widget-view+json": {
       "model_id": "38959feff83e44fb99138da1d8e2fb98",
       "version_major": 2,
       "version_minor": 0
      },
      "text/plain": [
       "0rows [00:00, ?rows/s]"
      ]
     },
     "metadata": {},
     "output_type": "display_data"
    },
    {
     "data": {
      "text/html": [
       "<div><style>\n",
       ".dataframe > thead > tr,\n",
       ".dataframe > tbody > tr {\n",
       "  text-align: right;\n",
       "  white-space: pre-wrap;\n",
       "}\n",
       "</style>\n",
       "<small>shape: (1, 1)</small><table border=\"1\" class=\"dataframe\"><thead><tr><th>count(*)</th></tr><tr><td>i64</td></tr></thead><tbody><tr><td>8240796</td></tr></tbody></table></div>"
      ],
      "text/plain": [
       "shape: (1, 1)\n",
       "┌──────────┐\n",
       "│ count(*) │\n",
       "│ ---      │\n",
       "│ i64      │\n",
       "╞══════════╡\n",
       "│ 8240796  │\n",
       "└──────────┘"
      ]
     },
     "execution_count": 4,
     "metadata": {},
     "output_type": "execute_result"
    }
   ],
   "source": [
    "pb.sql(\"select count(*) from ERR194147 limit 10\").collect()"
   ]
  },
  {
   "cell_type": "code",
   "execution_count": 5,
   "metadata": {},
   "outputs": [
    {
     "data": {
      "application/vnd.jupyter.widget-view+json": {
       "model_id": "02a1a9eb7c3b44e1b798473dc433bacb",
       "version_major": 2,
       "version_minor": 0
      },
      "text/plain": [
       "0rows [00:00, ?rows/s]"
      ]
     },
     "metadata": {},
     "output_type": "display_data"
    },
    {
     "data": {
      "application/vnd.jupyter.widget-view+json": {
       "model_id": "112f1bc0c2354ad59b9a09d3adec1113",
       "version_major": 2,
       "version_minor": 0
      },
      "text/plain": [
       "0rows [00:00, ?rows/s]"
      ]
     },
     "metadata": {},
     "output_type": "display_data"
    },
    {
     "data": {
      "text/html": [
       "<div><style>\n",
       ".dataframe > thead > tr,\n",
       ".dataframe > tbody > tr {\n",
       "  text-align: right;\n",
       "  white-space: pre-wrap;\n",
       "}\n",
       "</style>\n",
       "<small>shape: (101, 1)</small><table border=\"1\" class=\"dataframe\"><thead><tr><th>base_content(err194147.sequence)</th></tr><tr><td>struct[6]</td></tr></thead><tbody><tr><td>{0,31.339679,18.850424,17.914083,31.880233,0.015581}</td></tr><tr><td>{1,33.122601,16.527675,19.57425,30.773617,0.001857}</td></tr><tr><td>{2,32.246484,17.553134,18.680975,31.517744,0.001662}</td></tr><tr><td>{3,30.171976,18.472014,20.371988,30.949037,0.034984}</td></tr><tr><td>{4,30.039986,18.653392,21.07834,30.22509,0.003191}</td></tr><tr><td>&hellip;</td></tr><tr><td>{96,29.863996,19.937516,20.154036,30.009868,0.034584}</td></tr><tr><td>{97,29.872272,20.090353,20.046813,29.956087,0.034475}</td></tr><tr><td>{98,29.983924,19.816739,20.268709,29.896226,0.034402}</td></tr><tr><td>{99,29.865938,19.739222,20.329662,30.032172,0.033007}</td></tr><tr><td>{100,29.718877,19.996042,20.36057,29.891773,0.03274}</td></tr></tbody></table></div>"
      ],
      "text/plain": [
       "shape: (101, 1)\n",
       "┌─────────────────────────────────┐\n",
       "│ base_content(err194147.sequenc… │\n",
       "│ ---                             │\n",
       "│ struct[6]                       │\n",
       "╞═════════════════════════════════╡\n",
       "│ {0,31.339679,18.850424,17.9140… │\n",
       "│ {1,33.122601,16.527675,19.5742… │\n",
       "│ {2,32.246484,17.553134,18.6809… │\n",
       "│ {3,30.171976,18.472014,20.3719… │\n",
       "│ {4,30.039986,18.653392,21.0783… │\n",
       "│ …                               │\n",
       "│ {96,29.863996,19.937516,20.154… │\n",
       "│ {97,29.872272,20.090353,20.046… │\n",
       "│ {98,29.983924,19.816739,20.268… │\n",
       "│ {99,29.865938,19.739222,20.329… │\n",
       "│ {100,29.718877,19.996042,20.36… │\n",
       "└─────────────────────────────────┘"
      ]
     },
     "execution_count": 5,
     "metadata": {},
     "output_type": "execute_result"
    }
   ],
   "source": [
    "pb.sql(\"describe ERR194147\").collect()\n",
    "pb.sql(\"select base_content(sequence) from ERR194147;\").collect()\n"
   ]
  },
  {
   "cell_type": "code",
   "execution_count": 6,
   "metadata": {},
   "outputs": [
    {
     "data": {
      "application/vnd.jupyter.widget-view+json": {
       "model_id": "be309558974d4d5d90f7c99bc9b21042",
       "version_major": 2,
       "version_minor": 0
      },
      "text/plain": [
       "0rows [00:00, ?rows/s]"
      ]
     },
     "metadata": {},
     "output_type": "display_data"
    },
    {
     "data": {
      "application/vnd.jupyter.widget-view+json": {
       "model_id": "f65d3078526d4a07ad482eb172b3cad7",
       "version_major": 2,
       "version_minor": 0
      },
      "text/plain": [
       "0rows [00:00, ?rows/s]"
      ]
     },
     "metadata": {},
     "output_type": "display_data"
    },
    {
     "data": {
      "application/vnd.jupyter.widget-view+json": {
       "model_id": "203afe3cf95c4c4e8e3dffb63f4468c1",
       "version_major": 2,
       "version_minor": 0
      },
      "text/plain": [
       "0rows [00:00, ?rows/s]"
      ]
     },
     "metadata": {},
     "output_type": "display_data"
    },
    {
     "data": {
      "image/png": "[encoded data removed]",
      "text/plain": [
       "<Figure size 1200x600 with 1 Axes>"
      ]
     },
     "metadata": {},
     "output_type": "display_data"
    },
    {
     "name": "stdout",
     "output_type": "stream",
     "text": [
      "[{\"position\":0,\"A\":31.339678836850226,\"C\":18.850424158054636,\"G\":17.91408257163507,\"T\":31.88023341434493,\"N\":0.015581019115143731},{\"position\":1,\"A\":33.122601263276024,\"C\":16.52767523913952,\"G\":19.574249866153707,\"T\":30.773617014667032,\"N\":0.0018566167637203979},{\"position\":2,\"A\":32.24648444155152,\"C\":17.55313443021766,\"G\":18.6809745078024,\"T\":31.51774415966613,\"N\":0.001662460762285585},{\"position\":3,\"A\":30.171976105220903,\"C\":18.472014111258183,\"G\":20.371988337048993,\"T\":30.949036961963383,\"N\":0.03498448450853534},{\"position\":4,\"A\":30.039986428495503,\"C\":18.65339222084857,\"G\":21.078340005018934,\"T\":30.22508990636342,\"N\":0.0031914392735847364},{\"position\":5,\"A\":30.78366458774128,\"C\":19.385287537757275,\"G\":20.840207669259133,\"T\":28.98483350394792,\"N\":0.006006701294389522},{\"position\":6,\"A\":30.88081539695923,\"C\":18.83332629517828,\"G\":20.506210807790897,\"T\":29.775752245292807,\"N\":0.0038952547787859328},{\"position\":7,\"A\":30.70458242140686,\"C\":19.126938708348078,\"G\":19.632217567332088,\"T\":30.5321112183823,\"N\":0.004150084530669125},{\"position\":8,\"A\":29.66879655800241,\"C\":19.717512725712417,\"G\":19.5770772629246,\"T\":31.03197797882632,\"N\":0.004635474534256156},{\"position\":9,\"A\":30.105926660482794,\"C\":19.853676756468673,\"G\":19.65088081297001,\"T\":30.384552657291845,\"N\":0.004963112786677403},{\"position\":10,\"A\":30.70412130090346,\"C\":19.37317705716778,\"G\":19.6235048167677,\"T\":30.295689882385147,\"N\":0.003506942775916307},{\"position\":11,\"A\":30.758569924555836,\"C\":19.305198187165416,\"G\":19.328860949840283,\"T\":30.604288711915693,\"N\":0.003082226522777654},{\"position\":12,\"A\":30.59422900409135,\"C\":19.3219077380389,\"G\":19.274521538938714,\"T\":30.805701293904132,\"N\":0.003640425026902741},{\"position\":13,\"A\":30.44085789770794,\"C\":19.354865719282458,\"G\":19.56172680406116,\"T\":30.640074089930145,\"N\":0.002475489018293864},{\"position\":14,\"A\":30.543372266465518,\"C\":19.259171080075273,\"G\":19.719721250228737,\"T\":30.475114297211093,\"N\":0.0026211060193699737},{\"position\":15,\"A\":30.485477373787678,\"C\":19.514692512713577,\"G\":19.536559332375173,\"T\":30.459860916348376,\"N\":0.0034098647751989006},{\"position\":16,\"A\":30.49456630160485,\"C\":19.321677177787194,\"G\":19.53066184383159,\"T\":30.651359407513546,\"N\":0.0017352692628236398},{\"position\":17,\"A\":30.45804070383492,\"C\":19.515905987722544,\"G\":19.594187260551045,\"T\":30.420083205554416,\"N\":0.011782842337075206},{\"position\":18,\"A\":30.16876039644714,\"C\":19.710826478413008,\"G\":19.60252383386265,\"T\":30.354094434566758,\"N\":0.163794856710444},{\"position\":19,\"A\":30.239603067470668,\"C\":19.83217397930977,\"G\":19.494330402063103,\"T\":30.433091657650547,\"N\":0.000800893505918603},{\"position\":20,\"A\":30.29808042815281,\"C\":19.706045386877673,\"G\":19.52293200802447,\"T\":30.472687347193162,\"N\":0.00025482975188319187},{\"position\":21,\"A\":30.07042038172041,\"C\":19.759183457520365,\"G\":19.576009404916707,\"T\":30.59432608209207,\"N\":0.00006067375044837901},{\"position\":22,\"A\":29.859299999660227,\"C\":20.02584459074099,\"G\":19.56783058335627,\"T\":30.546490897238566,\"N\":0.0005339290039457354},{\"position\":23,\"A\":30.152002306573294,\"C\":19.749512061698894,\"G\":19.792493346516526,\"T\":30.30411139894738,\"N\":0.0018808862638997497},{\"position\":24,\"A\":30.176114055001484,\"C\":19.537311686880734,\"G\":19.722038987495868,\"T\":30.564498866371647,\"N\":0.00003640425026902741},{\"position\":25,\"A\":30.12033060883924,\"C\":19.887556978719047,\"G\":19.64410962241997,\"T\":30.347893577270934,\"N\":0.00010921275080708222},{\"position\":26,\"A\":30.177764381013677,\"C\":19.8256697532617,\"G\":19.94275795687698,\"T\":30.053662291846567,\"N\":0.00014561700107610965},{\"position\":27,\"A\":30.407620817212315,\"C\":19.58086330495258,\"G\":20.10294879281079,\"T\":29.908372929022875,\"N\":0.00019415600143481287},{\"position\":28,\"A\":30.469823546171998,\"C\":19.570912809879047,\"G\":19.977766710885696,\"T\":29.981278507561647,\"N\":0.00021842550161416444},{\"position\":29,\"A\":30.214884581537998,\"C\":19.57559682341366,\"G\":20.091954709229544,\"T\":30.117005687314673,\"N\":0.0005581985041250869},{\"position\":30,\"A\":30.087263414844877,\"C\":19.63770247437262,\"G\":20.20000252402802,\"T\":30.073005083489505,\"N\":0.002026503264975859},{\"position\":31,\"A\":30.01490390006014,\"C\":19.799919813571407,\"G\":20.188183277440675,\"T\":29.99443257665886,\"N\":0.0025604322689215947},{\"position\":32,\"A\":30.16896668719866,\"C\":19.864088372045615,\"G\":19.96156681951598,\"T\":30.002805554220735,\"N\":0.0025725670190112704},{\"position\":33,\"A\":30.15029130681065,\"C\":19.71338691068193,\"G\":20.066520273041586,\"T\":30.065736368185792,\"N\":0.004065141280041394},{\"position\":34,\"A\":30.014709744058703,\"C\":19.771985618864974,\"G\":20.07270899558732,\"T\":30.134952982697307,\"N\":0.005642658791699249},{\"position\":35,\"A\":30.01526794256283,\"C\":20.057431345224416,\"G\":19.924361675741036,\"T\":29.996726044425802,\"N\":0.006212992045914012},{\"position\":36,\"A\":30.228524040638792,\"C\":19.77103910835798,\"G\":20.030625682276323,\"T\":29.96431412693628,\"N\":0.005497041790623138},{\"position\":37,\"A\":30.14622616553061,\"C\":19.63212048933137,\"G\":20.120495641440463,\"T\":30.098573001928454,\"N\":0.002584701769100946},{\"position\":38,\"A\":30.021675090610177,\"C\":19.83390924857259,\"G\":20.071046534825037,\"T\":30.070408246970317,\"N\":0.002960879021880896},{\"position\":39,\"A\":30.02536405463744,\"C\":19.832635099813174,\"G\":20.24224358909018,\"T\":29.898628724700867,\"N\":0.0011285317583398498},{\"position\":40,\"A\":30.405460831696356,\"C\":19.67673996541111,\"G\":20.2594992037177,\"T\":29.655411928653496,\"N\":0.0028880705213428413},{\"position\":41,\"A\":30.206924185479167,\"C\":19.95889717449625,\"G\":20.107026068840923,\"T\":29.724082479410967,\"N\":0.0030700917726879783},{\"position\":42,\"A\":30.030727614177078,\"C\":19.923087526981618,\"G\":19.958302571741857,\"T\":29.968864658219914,\"N\":0.11901762887954027},{\"position\":43,\"A\":29.9836811880794,\"C\":19.825026611506946,\"G\":20.19801242501331,\"T\":29.900266915962977,\"N\":0.09301285943736504},{\"position\":44,\"A\":29.880244578315008,\"C\":19.979404902147802,\"G\":20.06976025131553,\"T\":29.9890932866194,\"N\":0.0814969816022627},{\"position\":45,\"A\":29.994141342656704,\"C\":20.083545327417397,\"G\":19.953909792209394,\"T\":29.925543600399767,\"N\":0.04285993731673494},{\"position\":46,\"A\":30.185882528823672,\"C\":19.917202173188123,\"G\":19.915333421674315,\"T\":29.907329340515165,\"N\":0.07425253579872625},{\"position\":47,\"A\":29.883253996337245,\"C\":19.90021352306258,\"G\":20.00337103357491,\"T\":30.159938433131945,\"N\":0.053223013893318065},{\"position\":48,\"A\":29.81943734561564,\"C\":20.063413777018628,\"G\":19.95329091995482,\"T\":30.128570104150132,\"N\":0.035287853260777234},{\"position\":49,\"A\":30.138374982222594,\"C\":19.867413293570184,\"G\":20.263734231498994,\"T\":29.703805312011124,\"N\":0.026672180697107414},{\"position\":50,\"A\":30.292000918357886,\"C\":19.667954406346183,\"G\":20.13332207228525,\"T\":29.87941941530891,\"N\":0.027303187701770554},{\"position\":51,\"A\":30.255875767340925,\"C\":19.77580806514322,\"G\":20.01951025119418,\"T\":29.92173328887161,\"N\":0.027072627450066715},{\"position\":52,\"A\":29.918626792848652,\"C\":19.716845314457487,\"G\":20.193813801482282,\"T\":30.143981236764024,\"N\":0.026732854447555795},{\"position\":53,\"A\":29.766602643725193,\"C\":19.76885485334184,\"G\":20.50310431176794,\"T\":29.934608258716754,\"N\":0.026829932448273204},{\"position\":54,\"A\":29.992478881894417,\"C\":19.900978012318227,\"G\":20.361018522967928,\"T\":29.717905891615327,\"N\":0.027618691204102125},{\"position\":55,\"A\":30.09125574762438,\"C\":19.896548828535497,\"G\":20.074589881851217,\"T\":29.9102295457866,\"N\":0.027375996202308614},{\"position\":56,\"A\":30.16320268090607,\"C\":19.682855879456305,\"G\":20.168063861791993,\"T\":29.945056278543962,\"N\":0.0408212993016694},{\"position\":57,\"A\":29.91349379356072,\"C\":19.87996062516291,\"G\":20.066568812041943,\"T\":30.10774687299625,\"N\":0.032229896238178936},{\"position\":58,\"A\":29.934183542463614,\"C\":20.0518129559329,\"G\":20.027179413250856,\"T\":29.954667000614986,\"N\":0.03215708773764088},{\"position\":59,\"A\":30.116386815060096,\"C\":19.87323797361323,\"G\":20.128965697003057,\"T\":29.848512206830506,\"N\":0.03289730749311111},{\"position\":60,\"A\":30.06903702021018,\"C\":19.859088855008665,\"G\":20.160006387732444,\"T\":29.879989748563123,\"N\":0.03187798848557834},{\"position\":61,\"A\":29.920143636609865,\"C\":19.971335293338168,\"G\":19.98623676644829,\"T\":30.092481357383438,\"N\":0.02980294622024377},{\"position\":62,\"A\":29.956013957874944,\"C\":19.821798767983093,\"G\":20.07871569688171,\"T\":30.113122567285977,\"N\":0.030349009974279185},{\"position\":63,\"A\":29.99844917893854,\"C\":19.828521419532773,\"G\":20.14947342465461,\"T\":29.99507571841361,\"N\":0.028480258460469112},{\"position\":64,\"A\":29.891153718645626,\"C\":20.008504032862845,\"G\":20.09321672323887,\"T\":29.97749246553367,\"N\":0.029633059718988313},{\"position\":65,\"A\":29.8641538996961,\"C\":20.041789652358826,\"G\":20.155977650702674,\"T\":29.908943262277095,\"N\":0.0291355349653116},{\"position\":66,\"A\":30.003169596723424,\"C\":20.02707020050005,\"G\":20.105946076082944,\"T\":29.835831392986794,\"N\":0.027982733706792405},{\"position\":67,\"A\":30.033118159944745,\"C\":20.01343074139925,\"G\":19.95745313923558,\"T\":29.967748261211657,\"N\":0.028249698208765273},{\"position\":68,\"A\":29.9108120137909,\"C\":20.20034229703053,\"G\":19.92000530045884,\"T\":29.94168281801904,\"N\":0.02715757070069445},{\"position\":69,\"A\":30.06429233292512,\"C\":20.00426900508155,\"G\":20.019668002945345,\"T\":29.884200506844245,\"N\":0.027570152203743425},{\"position\":70,\"A\":29.997563342181994,\"C\":19.905249444349792,\"G\":20.06184839425706,\"T\":30.007113390502564,\"N\":0.028225428708585916},{\"position\":71,\"A\":29.89780356169477,\"C\":20.12022867693849,\"G\":20.03563733406336,\"T\":29.918044324844345,\"N\":0.028286102459034297},{\"position\":72,\"A\":29.99446898090913,\"C\":19.899436899056838,\"G\":20.13249690927915,\"T\":29.94563874654827,\"N\":0.02795846420661305},{\"position\":73,\"A\":29.999723327697957,\"C\":19.877169632642282,\"G\":20.102087225554424,\"T\":29.994141342656704,\"N\":0.026878471448631907},{\"position\":74,\"A\":29.940675633761593,\"C\":19.87283752686027,\"G\":20.09063202146977,\"T\":30.068830729458657,\"N\":0.027024088449708012},{\"position\":75,\"A\":29.916563885333407,\"C\":19.839054382610612,\"G\":20.219648684423202,\"T\":29.9973206471802,\"N\":0.02741240045257764},{\"position\":76,\"A\":30.10248039145733,\"C\":19.74593231042244,\"G\":20.171680017318717,\"T\":29.949521866576966,\"N\":0.03038541422454821},{\"position\":77,\"A\":29.9714614947391,\"C\":19.888272928974338,\"G\":20.148381297146535,\"T\":29.95725170238409,\"N\":0.034632576755934744},{\"position\":78,\"A\":29.896056157681855,\"C\":19.83844764510613,\"G\":20.233894881028483,\"T\":29.99642267567356,\"N\":0.035178640509970154},{\"position\":79,\"A\":29.85383936211987,\"C\":19.802698671341943,\"G\":20.403720708533495,\"T\":29.903397681486112,\"N\":0.03634357651857903},{\"position\":80,\"A\":29.938661265246708,\"C\":19.8054532596123,\"G\":20.24812894288367,\"T\":29.970430040981476,\"N\":0.03732649127584277},{\"position\":81,\"A\":30.021772168610894,\"C\":19.852657437461136,\"G\":20.092051787230265,\"T\":29.99715076067894,\"N\":0.03636784601875838},{\"position\":82,\"A\":30.298092562902905,\"C\":19.685088673472805,\"G\":20.230934002006602,\"T\":29.751240050111665,\"N\":0.03464471150602442},{\"position\":83,\"A\":30.16496221966907,\"C\":19.680987127942494,\"G\":20.31300131686308,\"T\":29.804790702257407,\"N\":0.0362586332679513},{\"position\":84,\"A\":30.086838698591738,\"C\":19.896184786032805,\"G\":20.127072675989066,\"T\":29.854057787621485,\"N\":0.03584605176490232},{\"position\":85,\"A\":30.0898238471138,\"C\":19.88341902893847,\"G\":20.066459599291136,\"T\":29.926053259903533,\"N\":0.034244264753065114},{\"position\":86,\"A\":29.953951050359702,\"C\":19.75493629498898,\"G\":20.094660758499543,\"T\":30.161867858396203,\"N\":0.03458403775557604},{\"position\":87,\"A\":29.7117050343195,\"C\":20.03033444827417,\"G\":20.20407980005815,\"T\":30.018156013084173,\"N\":0.03572470426400556},{\"position\":88,\"A\":29.79669682394759,\"C\":19.880591632167572,\"G\":20.265906351765047,\"T\":30.022002728862603,\"N\":0.034802463257190205},{\"position\":89,\"A\":29.806368219769062,\"C\":19.845036814404825,\"G\":20.2324629805179,\"T\":30.081863451054968,\"N\":0.03426853425324447},{\"position\":90,\"A\":29.785544988615175,\"C\":19.929992199782642,\"G\":20.082926455162827,\"T\":30.16681883643279,\"N\":0.034717520006562474},{\"position\":91,\"A\":29.81688904809681,\"C\":20.08756192969708,\"G\":20.033149710294975,\"T\":30.027172132400803,\"N\":0.03522717951032886},{\"position\":92,\"A\":29.907559900766866,\"C\":19.936605638581515,\"G\":20.12841963324902,\"T\":29.993558874652397,\"N\":0.03385595275019549},{\"position\":93,\"A\":29.748752426343277,\"C\":19.948922409922538,\"G\":20.18908124894731,\"T\":30.07846572102986,\"N\":0.034778193757010856},{\"position\":94,\"A\":29.790641583652842,\"C\":20.090923255471925,\"G\":20.094709297499904,\"T\":29.98928744262083,\"N\":0.03443842075449993},{\"position\":95,\"A\":29.987370152106664,\"C\":19.945245580645366,\"G\":20.075099541354984,\"T\":29.958173943390904,\"N\":0.03411078250207868},{\"position\":96,\"A\":29.86399614794493,\"C\":19.93751574483824,\"G\":20.154036090688326,\"T\":30.009867978772924,\"N\":0.03458403775557604},{\"position\":97,\"A\":29.872272047506087,\"C\":20.090352922217708,\"G\":20.046813438895953,\"T\":29.956086766375485,\"N\":0.03447482500476896},{\"position\":98,\"A\":29.983923883081196,\"C\":19.816738577195697,\"G\":20.268709479035763,\"T\":29.89622604418311,\"N\":0.0344020165042309},{\"position\":99,\"A\":29.86593770795928,\"C\":19.73922179362285,\"G\":20.3296623287362,\"T\":30.03217164943775,\"N\":0.03300652024391818},{\"position\":100,\"A\":29.718876671622496,\"C\":19.996041644520748,\"G\":20.36056953721461,\"T\":29.8917725909002,\"N\":0.032739555741945314}]\n",
      "shape: (101, 7)\n",
      "┌──────────┬───────────┬───────────┬───────────┬───────────┬──────────┬────────────┐\n",
      "│ position ┆ A         ┆ C         ┆ G         ┆ T         ┆ N        ┆ GC_content │\n",
      "│ ---      ┆ ---       ┆ ---       ┆ ---       ┆ ---       ┆ ---      ┆ ---        │\n",
      "│ u64      ┆ f64       ┆ f64       ┆ f64       ┆ f64       ┆ f64      ┆ f64        │\n",
      "╞══════════╪═══════════╪═══════════╪═══════════╪═══════════╪══════════╪════════════╡\n",
      "│ 0        ┆ 31.339679 ┆ 18.850424 ┆ 17.914083 ┆ 31.880233 ┆ 0.015581 ┆ 36.764507  │\n",
      "│ 1        ┆ 33.122601 ┆ 16.527675 ┆ 19.57425  ┆ 30.773617 ┆ 0.001857 ┆ 36.101925  │\n",
      "│ 2        ┆ 32.246484 ┆ 17.553134 ┆ 18.680975 ┆ 31.517744 ┆ 0.001662 ┆ 36.234109  │\n",
      "│ 3        ┆ 30.171976 ┆ 18.472014 ┆ 20.371988 ┆ 30.949037 ┆ 0.034984 ┆ 38.844002  │\n",
      "│ 4        ┆ 30.039986 ┆ 18.653392 ┆ 21.07834  ┆ 30.22509  ┆ 0.003191 ┆ 39.731732  │\n",
      "│ …        ┆ …         ┆ …         ┆ …         ┆ …         ┆ …        ┆ …          │\n",
      "│ 96       ┆ 29.863996 ┆ 19.937516 ┆ 20.154036 ┆ 30.009868 ┆ 0.034584 ┆ 40.091552  │\n",
      "│ 97       ┆ 29.872272 ┆ 20.090353 ┆ 20.046813 ┆ 29.956087 ┆ 0.034475 ┆ 40.137166  │\n",
      "│ 98       ┆ 29.983924 ┆ 19.816739 ┆ 20.268709 ┆ 29.896226 ┆ 0.034402 ┆ 40.085448  │\n",
      "│ 99       ┆ 29.865938 ┆ 19.739222 ┆ 20.329662 ┆ 30.032172 ┆ 0.033007 ┆ 40.068884  │\n",
      "│ 100      ┆ 29.718877 ┆ 19.996042 ┆ 20.36057  ┆ 29.891773 ┆ 0.03274  ┆ 40.356611  │\n",
      "└──────────┴───────────┴───────────┴───────────┴───────────┴──────────┴────────────┘\n"
     ]
    },
    {
     "data": {
      "text/html": [
       "<div><style>\n",
       ".dataframe > thead > tr,\n",
       ".dataframe > tbody > tr {\n",
       "  text-align: right;\n",
       "  white-space: pre-wrap;\n",
       "}\n",
       "</style>\n",
       "<small>shape: (1, 7)</small><table border=\"1\" class=\"dataframe\"><thead><tr><th>position</th><th>A</th><th>C</th><th>G</th><th>T</th><th>N</th><th>GC_content</th></tr><tr><td>f64</td><td>f64</td><td>f64</td><td>f64</td><td>f64</td><td>f64</td><td>f64</td></tr></thead><tbody><tr><td>50.0</td><td>30.150847</td><td>19.707176</td><td>20.001331</td><td>30.116163</td><td>0.024483</td><td>39.708507</td></tr></tbody></table></div>"
      ],
      "text/plain": [
       "shape: (1, 7)\n",
       "┌──────────┬───────────┬───────────┬───────────┬───────────┬──────────┬────────────┐\n",
       "│ position ┆ A         ┆ C         ┆ G         ┆ T         ┆ N        ┆ GC_content │\n",
       "│ ---      ┆ ---       ┆ ---       ┆ ---       ┆ ---       ┆ ---      ┆ ---        │\n",
       "│ f64      ┆ f64       ┆ f64       ┆ f64       ┆ f64       ┆ f64      ┆ f64        │\n",
       "╞══════════╪═══════════╪═══════════╪═══════════╪═══════════╪══════════╪════════════╡\n",
       "│ 50.0     ┆ 30.150847 ┆ 19.707176 ┆ 20.001331 ┆ 30.116163 ┆ 0.024483 ┆ 39.708507  │\n",
       "└──────────┴───────────┴───────────┴───────────┴───────────┴──────────┴────────────┘"
      ]
     },
     "execution_count": 6,
     "metadata": {},
     "output_type": "execute_result"
    }
   ],
   "source": [
    "pb.sql(\"select base_content(sequence) from ERR194147;\").collect()\n",
    "pb.ctx.set_option(\"datafusion.execution.target_partitions\", str(2))\n",
    "pb.sql(\"select base_content(sequence) from ERR194147;\").collect()\n",
    "df1 = pb.sql(\"SELECT base_content(sequence) as base FROM ERR194147\").collect()\n",
    "df1 = df1.unnest(\"base\")\n",
    "pb.qc.visualize_base_content(df1)\n",
    "json_str = df1.write_json()\n",
    "print(json_str)\n",
    "gc_df = df1.with_columns(\n",
    "        ((pl.col(\"G\") + pl.col(\"C\")) / (pl.col(\"A\") + pl.col(\"C\") + pl.col(\"G\") + pl.col(\"T\") + pl.col(\"N\")) * 100).alias(\"GC_content\")\n",
    "    )\n",
    "print(gc_df)\n",
    "gc_df.mean()"
   ]
  },
  {
   "cell_type": "markdown",
   "metadata": {},
   "source": [
    "## Analyzing Base Sequence Content\n",
    "\n",
    "Now, let's analyze the base sequence content using the `base_content` function. This function calculates the percentage of each base (A, T, G, C, N) at each position in the reads."
   ]
  },
  {
   "cell_type": "code",
   "execution_count": 7,
   "metadata": {},
   "outputs": [
    {
     "name": "stdout",
     "output_type": "stream",
     "text": [
      "Chunk size: 2060199\n",
      "Successfully calculated base content, column count: 101\n"
     ]
    },
    {
     "data": {
      "text/html": [
       "<div><style>\n",
       ".dataframe > thead > tr,\n",
       ".dataframe > tbody > tr {\n",
       "  text-align: right;\n",
       "  white-space: pre-wrap;\n",
       "}\n",
       "</style>\n",
       "<small>shape: (5, 6)</small><table border=\"1\" class=\"dataframe\"><thead><tr><th>position</th><th>A</th><th>C</th><th>G</th><th>T</th><th>N</th></tr><tr><td>i32</td><td>f64</td><td>f64</td><td>f64</td><td>f64</td><td>f64</td></tr></thead><tbody><tr><td>0</td><td>31.339679</td><td>18.850424</td><td>17.914083</td><td>31.880233</td><td>0.015581</td></tr><tr><td>1</td><td>33.122601</td><td>16.527675</td><td>19.57425</td><td>30.773617</td><td>0.001857</td></tr><tr><td>2</td><td>32.246484</td><td>17.553134</td><td>18.680975</td><td>31.517744</td><td>0.001662</td></tr><tr><td>3</td><td>30.171976</td><td>18.472014</td><td>20.371988</td><td>30.949037</td><td>0.034984</td></tr><tr><td>4</td><td>30.039986</td><td>18.653392</td><td>21.07834</td><td>30.22509</td><td>0.003191</td></tr></tbody></table></div>"
      ],
      "text/plain": [
       "shape: (5, 6)\n",
       "┌──────────┬───────────┬───────────┬───────────┬───────────┬──────────┐\n",
       "│ position ┆ A         ┆ C         ┆ G         ┆ T         ┆ N        │\n",
       "│ ---      ┆ ---       ┆ ---       ┆ ---       ┆ ---       ┆ ---      │\n",
       "│ i32      ┆ f64       ┆ f64       ┆ f64       ┆ f64       ┆ f64      │\n",
       "╞══════════╪═══════════╪═══════════╪═══════════╪═══════════╪══════════╡\n",
       "│ 0        ┆ 31.339679 ┆ 18.850424 ┆ 17.914083 ┆ 31.880233 ┆ 0.015581 │\n",
       "│ 1        ┆ 33.122601 ┆ 16.527675 ┆ 19.57425  ┆ 30.773617 ┆ 0.001857 │\n",
       "│ 2        ┆ 32.246484 ┆ 17.553134 ┆ 18.680975 ┆ 31.517744 ┆ 0.001662 │\n",
       "│ 3        ┆ 30.171976 ┆ 18.472014 ┆ 20.371988 ┆ 30.949037 ┆ 0.034984 │\n",
       "│ 4        ┆ 30.039986 ┆ 18.653392 ┆ 21.07834  ┆ 30.22509  ┆ 0.003191 │\n",
       "└──────────┴───────────┴───────────┴───────────┴───────────┴──────────┘"
      ]
     },
     "execution_count": 7,
     "metadata": {},
     "output_type": "execute_result"
    }
   ],
   "source": [
    "# Calculate base content\n",
    "base_content_df = pb.qc.base_content(df)\n",
    "\n",
    "# Display the first few rows of the result\n",
    "base_content_df.head()"
   ]
  },
  {
   "cell_type": "code",
   "execution_count": 8,
   "metadata": {},
   "outputs": [
    {
     "name": "stdout",
     "output_type": "stream",
     "text": [
      "shape: (101, 7)\n",
      "┌──────────┬───────────┬───────────┬───────────┬───────────┬──────────┬───────┐\n",
      "│ position ┆ A         ┆ C         ┆ G         ┆ T         ┆ N        ┆ total │\n",
      "│ ---      ┆ ---       ┆ ---       ┆ ---       ┆ ---       ┆ ---      ┆ ---   │\n",
      "│ i32      ┆ f64       ┆ f64       ┆ f64       ┆ f64       ┆ f64      ┆ f64   │\n",
      "╞══════════╪═══════════╪═══════════╪═══════════╪═══════════╪══════════╪═══════╡\n",
      "│ 0        ┆ 31.339679 ┆ 18.850424 ┆ 17.914083 ┆ 31.880233 ┆ 0.015581 ┆ 100.0 │\n",
      "│ 1        ┆ 33.122601 ┆ 16.527675 ┆ 19.57425  ┆ 30.773617 ┆ 0.001857 ┆ 100.0 │\n",
      "│ 2        ┆ 32.246484 ┆ 17.553134 ┆ 18.680975 ┆ 31.517744 ┆ 0.001662 ┆ 100.0 │\n",
      "│ 3        ┆ 30.171976 ┆ 18.472014 ┆ 20.371988 ┆ 30.949037 ┆ 0.034984 ┆ 100.0 │\n",
      "│ 4        ┆ 30.039986 ┆ 18.653392 ┆ 21.07834  ┆ 30.22509  ┆ 0.003191 ┆ 100.0 │\n",
      "│ …        ┆ …         ┆ …         ┆ …         ┆ …         ┆ …        ┆ …     │\n",
      "│ 96       ┆ 29.863996 ┆ 19.937516 ┆ 20.154036 ┆ 30.009868 ┆ 0.034584 ┆ 100.0 │\n",
      "│ 97       ┆ 29.872272 ┆ 20.090353 ┆ 20.046813 ┆ 29.956087 ┆ 0.034475 ┆ 100.0 │\n",
      "│ 98       ┆ 29.983924 ┆ 19.816739 ┆ 20.268709 ┆ 29.896226 ┆ 0.034402 ┆ 100.0 │\n",
      "│ 99       ┆ 29.865938 ┆ 19.739222 ┆ 20.329662 ┆ 30.032172 ┆ 0.033007 ┆ 100.0 │\n",
      "│ 100      ┆ 29.718877 ┆ 19.996042 ┆ 20.36057  ┆ 29.891773 ┆ 0.03274  ┆ 100.0 │\n",
      "└──────────┴───────────┴───────────┴───────────┴───────────┴──────────┴───────┘\n"
     ]
    }
   ],
   "source": [
    "base_content_df = base_content_df.with_columns(\n",
    "    pl.sum_horizontal(['A', 'C', 'G', 'T', 'N']).alias('total')\n",
    ")\n",
    "print(base_content_df)"
   ]
  },
  {
   "cell_type": "markdown",
   "metadata": {},
   "source": [
    "## Visualizing Base Sequence Content\n",
    "\n",
    "Let's visualize the base content distribution across positions using the `visualize_base_content` function."
   ]
  },
  {
   "cell_type": "code",
   "execution_count": 9,
   "metadata": {},
   "outputs": [
    {
     "data": {
      "image/png": "[encoded data removed]",
      "text/plain": [
       "<Figure size 1200x600 with 1 Axes>"
      ]
     },
     "metadata": {},
     "output_type": "display_data"
    }
   ],
   "source": [
    "# Visualize base content\n",
    "pb.qc.visualize_base_content(df1)"
   ]
  },
  {
   "cell_type": "markdown",
   "metadata": {},
   "source": [
    "## Custom Visualization\n",
    "\n",
    "We can also create a custom visualization of the base content data using matplotlib directly."
   ]
  },
  {
   "cell_type": "code",
   "execution_count": 10,
   "metadata": {},
   "outputs": [
    {
     "data": {
      "image/png": "[encoded data removed]",
      "text/plain": [
       "<Figure size 1400x800 with 1 Axes>"
      ]
     },
     "metadata": {},
     "output_type": "display_data"
    }
   ],
   "source": [
    "# Convert to pandas for easier plotting\n",
    "pdf = df1.to_pandas()\n",
    "\n",
    "# Create a figure and axis\n",
    "fig, ax = plt.subplots(figsize=(14, 8))\n",
    "\n",
    "# Plot each base\n",
    "ax.plot(pdf['position'], pdf['A'], '-', label='A', color='green', linewidth=2)\n",
    "ax.plot(pdf['position'], pdf['C'], '-', label='C', color='blue', linewidth=2)\n",
    "ax.plot(pdf['position'], pdf['G'], '-', label='G', color='black', linewidth=2)\n",
    "ax.plot(pdf['position'], pdf['T'], '-', label='T', color='red', linewidth=2)\n",
    "ax.plot(pdf['position'], pdf['N'], '-', label='N', color='gray', linewidth=2)\n",
    "\n",
    "# Add a horizontal line at 25% (expected for random distribution)\n",
    "ax.axhline(y=25, color='gray', linestyle='--', alpha=0.5)\n",
    "\n",
    "# Set labels and title\n",
    "ax.set_xlabel('Position in read (bp)', fontsize=12)\n",
    "ax.set_ylabel('Percentage', fontsize=12)\n",
    "ax.set_title('Base Content Across All Positions', fontsize=14)\n",
    "\n",
    "# Add legend\n",
    "ax.legend(fontsize=12)\n",
    "\n",
    "# Set y-axis limits\n",
    "ax.set_ylim(0, 100)\n",
    "\n",
    "# Add grid\n",
    "ax.grid(True, alpha=0.3)\n",
    "\n",
    "# Show the plot\n",
    "plt.tight_layout()\n",
    "plt.show()"
   ]
  },
  {
   "cell_type": "markdown",
   "metadata": {},
   "source": [
    "## Analyzing Base Content with Different Input Types\n",
    "\n",
    "The `base_content` function supports different input types, including Polars DataFrame, Polars LazyFrame, and Pandas DataFrame. Let's demonstrate this flexibility."
   ]
  },
  {
   "cell_type": "code",
   "execution_count": 11,
   "metadata": {},
   "outputs": [
    {
     "name": "stdout",
     "output_type": "stream",
     "text": [
      "Chunk size: 2060199\n",
      "Successfully calculated base content, column count: 101\n",
      "Result type with LazyFrame input: <class 'polars.dataframe.frame.DataFrame'>\n"
     ]
    },
    {
     "data": {
      "text/html": [
       "<div><style>\n",
       ".dataframe > thead > tr,\n",
       ".dataframe > tbody > tr {\n",
       "  text-align: right;\n",
       "  white-space: pre-wrap;\n",
       "}\n",
       "</style>\n",
       "<small>shape: (5, 6)</small><table border=\"1\" class=\"dataframe\"><thead><tr><th>position</th><th>A</th><th>C</th><th>G</th><th>T</th><th>N</th></tr><tr><td>i32</td><td>f64</td><td>f64</td><td>f64</td><td>f64</td><td>f64</td></tr></thead><tbody><tr><td>0</td><td>31.339679</td><td>18.850424</td><td>17.914083</td><td>31.880233</td><td>0.015581</td></tr><tr><td>1</td><td>33.122601</td><td>16.527675</td><td>19.57425</td><td>30.773617</td><td>0.001857</td></tr><tr><td>2</td><td>32.246484</td><td>17.553134</td><td>18.680975</td><td>31.517744</td><td>0.001662</td></tr><tr><td>3</td><td>30.171976</td><td>18.472014</td><td>20.371988</td><td>30.949037</td><td>0.034984</td></tr><tr><td>4</td><td>30.039986</td><td>18.653392</td><td>21.07834</td><td>30.22509</td><td>0.003191</td></tr></tbody></table></div>"
      ],
      "text/plain": [
       "shape: (5, 6)\n",
       "┌──────────┬───────────┬───────────┬───────────┬───────────┬──────────┐\n",
       "│ position ┆ A         ┆ C         ┆ G         ┆ T         ┆ N        │\n",
       "│ ---      ┆ ---       ┆ ---       ┆ ---       ┆ ---       ┆ ---      │\n",
       "│ i32      ┆ f64       ┆ f64       ┆ f64       ┆ f64       ┆ f64      │\n",
       "╞══════════╪═══════════╪═══════════╪═══════════╪═══════════╪══════════╡\n",
       "│ 0        ┆ 31.339679 ┆ 18.850424 ┆ 17.914083 ┆ 31.880233 ┆ 0.015581 │\n",
       "│ 1        ┆ 33.122601 ┆ 16.527675 ┆ 19.57425  ┆ 30.773617 ┆ 0.001857 │\n",
       "│ 2        ┆ 32.246484 ┆ 17.553134 ┆ 18.680975 ┆ 31.517744 ┆ 0.001662 │\n",
       "│ 3        ┆ 30.171976 ┆ 18.472014 ┆ 20.371988 ┆ 30.949037 ┆ 0.034984 │\n",
       "│ 4        ┆ 30.039986 ┆ 18.653392 ┆ 21.07834  ┆ 30.22509  ┆ 0.003191 │\n",
       "└──────────┴───────────┴───────────┴───────────┴───────────┴──────────┘"
      ]
     },
     "execution_count": 11,
     "metadata": {},
     "output_type": "execute_result"
    }
   ],
   "source": [
    "# Using a Polars LazyFrame\n",
    "lazy_df = df.lazy()\n",
    "lazy_result = pb.qc.base_content(lazy_df)\n",
    "print(f\"Result type with LazyFrame input: {type(lazy_result)}\")\n",
    "lazy_result.head()"
   ]
  },
  {
   "cell_type": "code",
   "execution_count": null,
   "metadata": {},
   "outputs": [],
   "source": [
    "# Using a Pandas DataFrame\n",
    "pandas_df = df.to_pandas()\n",
    "pandas_result = pb.qc.base_content(pandas_df, output_type=\"pandas.DataFrame\")\n",
    "print(f\"Result type with Pandas DataFrame input: {type(pandas_result)}\")\n",
    "pandas_result.head()"
   ]
  },
  {
   "cell_type": "markdown",
   "metadata": {},
   "source": [
    "## Performance Comparison\n",
    "\n",
    "Let's compare the performance of the base content calculation with different numbers of threads."
   ]
  },
  {
   "cell_type": "markdown",
   "metadata": {},
   "source": [
    "### Here is code with AVX-256 support"
   ]
  },
  {
   "cell_type": "code",
   "execution_count": 5,
   "metadata": {},
   "outputs": [
    {
     "name": "stdout",
     "output_type": "stream",
     "text": [
      "Number of CPU cores: 12\n"
     ]
    },
    {
     "data": {
      "application/vnd.jupyter.widget-view+json": {
       "model_id": "27d3842f4c644742b0602b8802f0357f",
       "version_major": 2,
       "version_minor": 0
      },
      "text/plain": [
       "0rows [00:00, ?rows/s]"
      ]
     },
     "metadata": {},
     "output_type": "display_data"
    },
    {
     "name": "stdout",
     "output_type": "stream",
     "text": [
      "Chunk size: 140800\n",
      "Successfully calculated base content, column count: 101\n",
      "Threads: 1, Execution time: 0.4728 seconds, Execution time SQL: 0.5127 seconds\n"
     ]
    },
    {
     "data": {
      "application/vnd.jupyter.widget-view+json": {
       "model_id": "0bcd59f9ef4046fbbdd5b20cf8454d03",
       "version_major": 2,
       "version_minor": 0
      },
      "text/plain": [
       "0rows [00:00, ?rows/s]"
      ]
     },
     "metadata": {},
     "output_type": "display_data"
    },
    {
     "name": "stdout",
     "output_type": "stream",
     "text": [
      "Chunk size: 140800\n",
      "Successfully calculated base content, column count: 101\n",
      "Threads: 2, Execution time: 0.4259 seconds, Execution time SQL: 0.3852 seconds\n"
     ]
    },
    {
     "data": {
      "application/vnd.jupyter.widget-view+json": {
       "model_id": "daf6395b55b34a7bbf2a7019821d46ac",
       "version_major": 2,
       "version_minor": 0
      },
      "text/plain": [
       "0rows [00:00, ?rows/s]"
      ]
     },
     "metadata": {},
     "output_type": "display_data"
    },
    {
     "name": "stdout",
     "output_type": "stream",
     "text": [
      "Chunk size: 140800\n",
      "Successfully calculated base content, column count: 101\n",
      "Threads: 4, Execution time: 0.4181 seconds, Execution time SQL: 0.3611 seconds\n"
     ]
    },
    {
     "data": {
      "application/vnd.jupyter.widget-view+json": {
       "model_id": "51f9d711c74d467998b008f5112ab312",
       "version_major": 2,
       "version_minor": 0
      },
      "text/plain": [
       "0rows [00:00, ?rows/s]"
      ]
     },
     "metadata": {},
     "output_type": "display_data"
    },
    {
     "name": "stdout",
     "output_type": "stream",
     "text": [
      "Chunk size: 140800\n",
      "Successfully calculated base content, column count: 101\n",
      "Threads: 8, Execution time: 0.4558 seconds, Execution time SQL: 0.3414 seconds\n"
     ]
    }
   ],
   "source": [
    "import time\n",
    "import os\n",
    "print(f\"Number of CPU cores: {os.cpu_count()}\")\n",
    "# Define a function to measure execution time\n",
    "def measure_time(func, *args, **kwargs):\n",
    "    start_time = time.time()\n",
    "    result = func(*args, **kwargs)\n",
    "    end_time = time.time()\n",
    "    return result, end_time - start_time\n",
    "\n",
    "# Test with different numbers of threads\n",
    "thread_counts = [1, 2, 4, 8]\n",
    "execution_times = []\n",
    "execution_times_sql = []\n",
    "for threads in thread_counts:\n",
    "    # Set the number of threads\n",
    "    pb.ctx.set_option(\"datafusion.execution.target_partitions\", str(threads))\n",
    "\n",
    "    start_time = time.time()\n",
    "    pb.sql(\"select base_content(sequence) from example\").collect()\n",
    "    end_time = time.time()\n",
    "    execution_time_sql = end_time - start_time\n",
    "    execution_times_sql.append(execution_time_sql)\n",
    "    # Measure execution time\n",
    "    _, execution_time = measure_time(pb.qc.base_content, df)\n",
    "    execution_times.append(execution_time)\n",
    "\n",
    "    print(f\"Threads: {threads}, Execution time: {execution_time:.4f} seconds, Execution time SQL: {execution_time_sql:.4f} seconds\")"
   ]
  },
  {
   "cell_type": "markdown",
   "metadata": {},
   "source": [
    "### Here is code partially optimized - binary check"
   ]
  },
  {
   "cell_type": "code",
   "execution_count": 4,
   "metadata": {},
   "outputs": [
    {
     "name": "stdout",
     "output_type": "stream",
     "text": [
      "Number of CPU cores: 12\n"
     ]
    },
    {
     "data": {
      "application/vnd.jupyter.widget-view+json": {
       "model_id": "fb0a50477c704a299509997d33d169cd",
       "version_major": 2,
       "version_minor": 0
      },
      "text/plain": [
       "0rows [00:00, ?rows/s]"
      ]
     },
     "metadata": {},
     "output_type": "display_data"
    },
    {
     "name": "stdout",
     "output_type": "stream",
     "text": [
      "Chunk size: 140800\n",
      "Successfully calculated base content, column count: 101\n",
      "Threads: 1, Execution time: 0.5385 seconds, Execution time SQL: 0.6668 seconds\n"
     ]
    },
    {
     "data": {
      "application/vnd.jupyter.widget-view+json": {
       "model_id": "b68f1fed9a0c498fb42d315303bb714c",
       "version_major": 2,
       "version_minor": 0
      },
      "text/plain": [
       "0rows [00:00, ?rows/s]"
      ]
     },
     "metadata": {},
     "output_type": "display_data"
    },
    {
     "name": "stdout",
     "output_type": "stream",
     "text": [
      "Chunk size: 140800\n",
      "Successfully calculated base content, column count: 101\n",
      "Threads: 2, Execution time: 0.6442 seconds, Execution time SQL: 0.4696 seconds\n"
     ]
    },
    {
     "data": {
      "application/vnd.jupyter.widget-view+json": {
       "model_id": "465aedbbb0d94737a840918ecf2e1ba0",
       "version_major": 2,
       "version_minor": 0
      },
      "text/plain": [
       "0rows [00:00, ?rows/s]"
      ]
     },
     "metadata": {},
     "output_type": "display_data"
    },
    {
     "name": "stdout",
     "output_type": "stream",
     "text": [
      "Chunk size: 140800\n",
      "Successfully calculated base content, column count: 101\n",
      "Threads: 4, Execution time: 0.5139 seconds, Execution time SQL: 0.4378 seconds\n"
     ]
    },
    {
     "data": {
      "application/vnd.jupyter.widget-view+json": {
       "model_id": "b3d1995d969a4429804dcea75510390c",
       "version_major": 2,
       "version_minor": 0
      },
      "text/plain": [
       "0rows [00:00, ?rows/s]"
      ]
     },
     "metadata": {},
     "output_type": "display_data"
    },
    {
     "name": "stdout",
     "output_type": "stream",
     "text": [
      "Chunk size: 140800\n",
      "Successfully calculated base content, column count: 101\n",
      "Threads: 8, Execution time: 0.5538 seconds, Execution time SQL: 0.3652 seconds\n"
     ]
    }
   ],
   "source": [
    "import time\n",
    "import os\n",
    "print(f\"Number of CPU cores: {os.cpu_count()}\")\n",
    "# Define a function to measure execution time\n",
    "def measure_time(func, *args, **kwargs):\n",
    "    start_time = time.time()\n",
    "    result = func(*args, **kwargs)\n",
    "    end_time = time.time()\n",
    "    return result, end_time - start_time\n",
    "\n",
    "# Test with different numbers of threads\n",
    "thread_counts = [1, 2, 4, 8]\n",
    "execution_times = []\n",
    "execution_times_sql = []\n",
    "for threads in thread_counts:\n",
    "    # Set the number of threads\n",
    "    pb.ctx.set_option(\"datafusion.execution.target_partitions\", str(threads))\n",
    "\n",
    "    start_time = time.time()\n",
    "    pb.sql(\"select base_content(sequence) from example\").collect()\n",
    "    end_time = time.time()\n",
    "    execution_time_sql = end_time - start_time\n",
    "    execution_times_sql.append(execution_time_sql)\n",
    "    # Measure execution time\n",
    "    _, execution_time = measure_time(pb.qc.base_content, df)\n",
    "    execution_times.append(execution_time)\n",
    "\n",
    "    print(f\"Threads: {threads}, Execution time: {execution_time:.4f} seconds, Execution time SQL: {execution_time_sql:.4f} seconds\")"
   ]
  },
  {
   "cell_type": "markdown",
   "metadata": {},
   "source": [
    "### Here is unoptimized code for reference"
   ]
  },
  {
   "cell_type": "code",
   "execution_count": 4,
   "metadata": {},
   "outputs": [
    {
     "name": "stdout",
     "output_type": "stream",
     "text": [
      "Number of CPU cores: 12\n"
     ]
    },
    {
     "data": {
      "application/vnd.jupyter.widget-view+json": {
       "model_id": "bdbcce565a1a435e87d03adf034966fc",
       "version_major": 2,
       "version_minor": 0
      },
      "text/plain": [
       "0rows [00:00, ?rows/s]"
      ]
     },
     "metadata": {},
     "output_type": "display_data"
    },
    {
     "name": "stdout",
     "output_type": "stream",
     "text": [
      "Chunk size: 140800\n",
      "Successfully calculated base content, column count: 101\n",
      "Threads: 1, Execution time: 0.5347 seconds, Execution time SQL: 0.7332 seconds\n"
     ]
    },
    {
     "data": {
      "application/vnd.jupyter.widget-view+json": {
       "model_id": "bfa83dd6db6d4fb7bf11d1d853165420",
       "version_major": 2,
       "version_minor": 0
      },
      "text/plain": [
       "0rows [00:00, ?rows/s]"
      ]
     },
     "metadata": {},
     "output_type": "display_data"
    },
    {
     "name": "stdout",
     "output_type": "stream",
     "text": [
      "Chunk size: 140800\n",
      "Successfully calculated base content, column count: 101\n",
      "Threads: 2, Execution time: 0.5203 seconds, Execution time SQL: 0.4870 seconds\n"
     ]
    },
    {
     "data": {
      "application/vnd.jupyter.widget-view+json": {
       "model_id": "b318df209a91496399ee9588041d450f",
       "version_major": 2,
       "version_minor": 0
      },
      "text/plain": [
       "0rows [00:00, ?rows/s]"
      ]
     },
     "metadata": {},
     "output_type": "display_data"
    },
    {
     "name": "stdout",
     "output_type": "stream",
     "text": [
      "Chunk size: 140800\n",
      "Successfully calculated base content, column count: 101\n",
      "Threads: 4, Execution time: 0.5376 seconds, Execution time SQL: 0.4735 seconds\n"
     ]
    },
    {
     "data": {
      "application/vnd.jupyter.widget-view+json": {
       "model_id": "84f33aafcc3342789ca227db0d62ebc3",
       "version_major": 2,
       "version_minor": 0
      },
      "text/plain": [
       "0rows [00:00, ?rows/s]"
      ]
     },
     "metadata": {},
     "output_type": "display_data"
    },
    {
     "name": "stdout",
     "output_type": "stream",
     "text": [
      "Chunk size: 140800\n",
      "Successfully calculated base content, column count: 101\n",
      "Threads: 8, Execution time: 0.4676 seconds, Execution time SQL: 0.4171 seconds\n"
     ]
    }
   ],
   "source": [
    "import time\n",
    "import os\n",
    "print(f\"Number of CPU cores: {os.cpu_count()}\")\n",
    "# Define a function to measure execution time\n",
    "def measure_time(func, *args, **kwargs):\n",
    "    start_time = time.time()\n",
    "    result = func(*args, **kwargs)\n",
    "    end_time = time.time()\n",
    "    return result, end_time - start_time\n",
    "\n",
    "# Test with different numbers of threads\n",
    "thread_counts = [1, 2, 4, 8]\n",
    "execution_times = []\n",
    "execution_times_sql = []\n",
    "for threads in thread_counts:\n",
    "    # Set the number of threads\n",
    "    pb.ctx.set_option(\"datafusion.execution.target_partitions\", str(threads))\n",
    "\n",
    "    start_time = time.time()\n",
    "    pb.sql(\"select base_content(sequence) from example\").collect()\n",
    "    end_time = time.time()\n",
    "    execution_time_sql = end_time - start_time\n",
    "    execution_times_sql.append(execution_time_sql)\n",
    "    # Measure execution time\n",
    "    _, execution_time = measure_time(pb.qc.base_content, df)\n",
    "    execution_times.append(execution_time)\n",
    "\n",
    "    print(f\"Threads: {threads}, Execution time: {execution_time:.4f} seconds, Execution time SQL: {execution_time_sql:.4f} seconds\")"
   ]
  },
  {
   "cell_type": "markdown",
   "metadata": {},
   "source": [
    "## Final version"
   ]
  },
  {
   "cell_type": "code",
   "execution_count": 1,
   "metadata": {},
   "outputs": [
    {
     "name": "stderr",
     "output_type": "stream",
     "text": [
      "INFO:polars_bio:Creating BioSessionContext\n",
      "INFO:polars_bio:Table: err194147 registered for path: ../tests/data/ERR194147.fastq\n"
     ]
    },
    {
     "name": "stdout",
     "output_type": "stream",
     "text": [
      "Number of CPU cores: 12\n"
     ]
    },
    {
     "data": {
      "application/vnd.jupyter.widget-view+json": {
       "model_id": "468eb197dae24a9e991b521620e99d97",
       "version_major": 2,
       "version_minor": 0
      },
      "text/plain": [
       "0rows [00:00, ?rows/s]"
      ]
     },
     "metadata": {},
     "output_type": "display_data"
    },
    {
     "name": "stderr",
     "output_type": "stream",
     "text": [
      "INFO:polars_bio:Table: err194147 registered for path: ../tests/data/ERR194147.fastq\n"
     ]
    },
    {
     "data": {
      "application/vnd.jupyter.widget-view+json": {
       "model_id": "9eeee5770d8b428882681d0c44984cf8",
       "version_major": 2,
       "version_minor": 0
      },
      "text/plain": [
       "0rows [00:00, ?rows/s]"
      ]
     },
     "metadata": {},
     "output_type": "display_data"
    },
    {
     "name": "stdout",
     "output_type": "stream",
     "text": [
      "Chunk size: 8240796\n"
     ]
    },
    {
     "name": "stderr",
     "output_type": "stream",
     "text": [
      "INFO:polars_bio:Table: err194147 registered for path: ../tests/data/ERR194147.fastq\n"
     ]
    },
    {
     "name": "stdout",
     "output_type": "stream",
     "text": [
      "Successfully calculated base content, column count: 101\n",
      "Threads: 1, Execution time: 10.1955 seconds, Execution time SQL: 8.3884 seconds\n"
     ]
    },
    {
     "data": {
      "application/vnd.jupyter.widget-view+json": {
       "model_id": "47e864259128433d90e4bce05c15930f",
       "version_major": 2,
       "version_minor": 0
      },
      "text/plain": [
       "0rows [00:00, ?rows/s]"
      ]
     },
     "metadata": {},
     "output_type": "display_data"
    },
    {
     "name": "stderr",
     "output_type": "stream",
     "text": [
      "INFO:polars_bio:Table: err194147 registered for path: ../tests/data/ERR194147.fastq\n"
     ]
    },
    {
     "data": {
      "application/vnd.jupyter.widget-view+json": {
       "model_id": "c1392942e6cc4e44afff658e7478f968",
       "version_major": 2,
       "version_minor": 0
      },
      "text/plain": [
       "0rows [00:00, ?rows/s]"
      ]
     },
     "metadata": {},
     "output_type": "display_data"
    },
    {
     "name": "stdout",
     "output_type": "stream",
     "text": [
      "Chunk size: 4120398\n"
     ]
    },
    {
     "name": "stderr",
     "output_type": "stream",
     "text": [
      "INFO:polars_bio:Table: err194147 registered for path: ../tests/data/ERR194147.fastq\n"
     ]
    },
    {
     "name": "stdout",
     "output_type": "stream",
     "text": [
      "Successfully calculated base content, column count: 101\n",
      "Threads: 2, Execution time: 7.8821 seconds, Execution time SQL: 5.8436 seconds\n"
     ]
    },
    {
     "data": {
      "application/vnd.jupyter.widget-view+json": {
       "model_id": "268d72e690534c2095009fe22292adec",
       "version_major": 2,
       "version_minor": 0
      },
      "text/plain": [
       "0rows [00:00, ?rows/s]"
      ]
     },
     "metadata": {},
     "output_type": "display_data"
    },
    {
     "name": "stderr",
     "output_type": "stream",
     "text": [
      "INFO:polars_bio:Table: err194147 registered for path: ../tests/data/ERR194147.fastq\n"
     ]
    },
    {
     "data": {
      "application/vnd.jupyter.widget-view+json": {
       "model_id": "49a40f2861be4f3594f1130bda2a510d",
       "version_major": 2,
       "version_minor": 0
      },
      "text/plain": [
       "0rows [00:00, ?rows/s]"
      ]
     },
     "metadata": {},
     "output_type": "display_data"
    },
    {
     "name": "stdout",
     "output_type": "stream",
     "text": [
      "Chunk size: 2060199\n"
     ]
    },
    {
     "name": "stderr",
     "output_type": "stream",
     "text": [
      "INFO:polars_bio:Table: err194147 registered for path: ../tests/data/ERR194147.fastq\n"
     ]
    },
    {
     "name": "stdout",
     "output_type": "stream",
     "text": [
      "Successfully calculated base content, column count: 101\n",
      "Threads: 4, Execution time: 6.9020 seconds, Execution time SQL: 5.1340 seconds\n"
     ]
    },
    {
     "data": {
      "application/vnd.jupyter.widget-view+json": {
       "model_id": "0736b4cc819449db95a8bce32bd58518",
       "version_major": 2,
       "version_minor": 0
      },
      "text/plain": [
       "0rows [00:00, ?rows/s]"
      ]
     },
     "metadata": {},
     "output_type": "display_data"
    },
    {
     "name": "stderr",
     "output_type": "stream",
     "text": [
      "INFO:polars_bio:Table: err194147 registered for path: ../tests/data/ERR194147.fastq\n"
     ]
    },
    {
     "data": {
      "application/vnd.jupyter.widget-view+json": {
       "model_id": "31846b44cced49aca4c96eebbfc47098",
       "version_major": 2,
       "version_minor": 0
      },
      "text/plain": [
       "0rows [00:00, ?rows/s]"
      ]
     },
     "metadata": {},
     "output_type": "display_data"
    },
    {
     "name": "stdout",
     "output_type": "stream",
     "text": [
      "Chunk size: 1030099\n",
      "Successfully calculated base content, column count: 101\n",
      "Threads: 8, Execution time: 5.8981 seconds, Execution time SQL: 4.6028 seconds\n"
     ]
    }
   ],
   "source": [
    "import polars_bio as pb\n",
    "import polars as pl\n",
    "import pandas as pd\n",
    "import matplotlib.pyplot as plt\n",
    "import numpy as np\n",
    "import os\n",
    "\n",
    "\n",
    "# Set plotting style\n",
    "plt.style.use('ggplot')\n",
    "plt.rcParams['figure.figsize'] = (12, 6)\n",
    "\n",
    "# Path to the example FASTQ file\n",
    "fastq_file = \"../tests/data/ERR194147.fastq\"\n",
    "\n",
    "# Read the FASTQ file\n",
    "\n",
    "import time\n",
    "import os\n",
    "print(f\"Number of CPU cores: {os.cpu_count()}\")\n",
    "# Define a function to measure execution time\n",
    "def measure_time(func, *args, **kwargs):\n",
    "    start_time = time.time()\n",
    "    result = func(*args, **kwargs)\n",
    "    end_time = time.time()\n",
    "    return result, end_time - start_time\n",
    "\n",
    "# Test with different numbers of threads\n",
    "thread_counts = [1, 2, 4, 8]\n",
    "execution_times = []\n",
    "execution_times_sql = []\n",
    "for threads in thread_counts:\n",
    "    # Set the number of threads\n",
    "    pb.ctx.set_option(\"datafusion.execution.target_partitions\", str(threads))\n",
    "    start_time = time.time()\n",
    "    df = pb.read_fastq(fastq_file)\n",
    "    pb.sql(\"select base_content(sequence) from ERR194147\").collect()\n",
    "    end_time = time.time()\n",
    "    execution_time_sql = end_time - start_time\n",
    "    execution_times_sql.append(execution_time_sql)\n",
    "    # Measure execution time\n",
    "    df = pb.read_fastq(fastq_file).collect()\n",
    "    _, execution_time = measure_time(pb.qc.base_content, df)\n",
    "    execution_times.append(execution_time)\n",
    "\n",
    "    print(f\"Threads: {threads}, Execution time: {execution_time:.4f} seconds, Execution time SQL: {execution_time_sql:.4f} seconds\")"
   ]
  },
  {
   "cell_type": "code",
   "execution_count": 2,
   "metadata": {},
   "outputs": [
    {
     "data": {
      "image/png": "[encoded data removed]",
      "text/plain": [
       "<Figure size 800x500 with 1 Axes>"
      ]
     },
     "metadata": {},
     "output_type": "display_data"
    },
    {
     "data": {
      "image/png": "[encoded data removed]",
      "text/plain": [
       "<Figure size 800x500 with 1 Axes>"
      ]
     },
     "metadata": {},
     "output_type": "display_data"
    }
   ],
   "source": [
    "import matplotlib.pyplot as plt\n",
    "\n",
    "plt.figure(figsize=(8, 5))\n",
    "plt.plot(thread_counts, execution_times, label=\"Python\", marker='o')\n",
    "plt.plot(thread_counts, execution_times_sql, label=\"SQL\", marker='s')\n",
    "plt.xlabel(\"Number of Threads\")\n",
    "plt.ylabel(\"Execution Time (seconds)\")\n",
    "plt.title(\"Execution Time vs Number of Threads\")\n",
    "plt.legend()\n",
    "plt.grid(True)\n",
    "plt.tight_layout()\n",
    "plt.show()\n",
    "\n",
    "def compute_speedup(times):\n",
    "    return [times[0] / t for t in times]\n",
    "\n",
    "plt.figure(figsize=(8, 5))\n",
    "plt.plot(thread_counts, compute_speedup(execution_times), label=\"Python Speedup\", marker='o')\n",
    "plt.plot(thread_counts, compute_speedup(execution_times_sql), label=\"SQL Speedup\", marker='s')\n",
    "plt.xlabel(\"Number of Threads\")\n",
    "plt.ylabel(\"Speedup (relative to 1 thread)\")\n",
    "plt.title(\"Speedup vs Number of Threads\")\n",
    "plt.legend()\n",
    "plt.grid(True)\n",
    "plt.tight_layout()\n",
    "plt.show()\n"
   ]
  },
  {
   "cell_type": "markdown",
   "metadata": {},
   "source": [
    "# fastqc-rs vs our implementation - Comparison\n",
    "First we compared base fastqc-rs execution time with our implementation"
   ]
  },
  {
   "cell_type": "code",
   "execution_count": null,
   "metadata": {},
   "outputs": [],
   "source": [
    "import subprocess\n",
    "import time\n",
    "import polars_bio as pb\n",
    "import os\n",
    "import json\n",
    "from statistics import mean\n",
    "from collections import defaultdict\n",
    "\n",
    "FASTQ_FILE = \"../tests/data/ERR194147.fastq\"\n",
    "HTML_REPORT = \"fastqc_rs_report.html\"\n",
    "SUMMARY_JSON_DIR = \"../fastqc_rs_output\"\n",
    "SUMMARY_FILE = os.path.join(SUMMARY_JSON_DIR, \"fastqc_data.txt\")\n",
    "THREADS = 1\n",
    "FQC_BIN = \"/home/dbartosiak/.cargo/bin/fqc\"\n",
    "\n",
    "def run_polars_bio_base_content(fastq_file: str, threads: int):\n",
    "    pb.ctx.set_option(\"datafusion.execution.target_partitions\", str(threads))\n",
    "\n",
    "    start_read = time.perf_counter()\n",
    "    df = pb.read_fastq(fastq_file).collect()\n",
    "    end_read = time.perf_counter()\n",
    "    read_time = end_read - start_read\n",
    "\n",
    "    start_query = time.perf_counter()\n",
    "    df = pb.sql(\"select base_content(sequence) from ERR194147\").collect()\n",
    "    end_query = time.perf_counter()\n",
    "    query_time = end_query - start_query\n",
    "    df_unnested = df.unnest(\"base_content(err194147.sequence)\")\n",
    "\n",
    "    bases = {\"A\": [], \"T\": [], \"G\": [], \"C\": [], \"N\": []}\n",
    "    for row in df_unnested.iter_rows(named=True):\n",
    "        bases[\"A\"].append(row[\"A\"])\n",
    "        bases[\"T\"].append(row[\"T\"])\n",
    "        bases[\"G\"].append(row[\"G\"])\n",
    "        bases[\"C\"].append(row[\"C\"])\n",
    "        bases[\"N\"].append(row[\"N\"])\n",
    "\n",
    "    avg_base_content = {b: mean(values) for b, values in bases.items()}\n",
    "    return avg_base_content, read_time, query_time\n",
    "\n",
    "\n",
    "def run_fastqc_rs(fastq_file: str, html_output_file: str, summary_dir: str):\n",
    "    os.makedirs(summary_dir, exist_ok=True)\n",
    "\n",
    "    start = time.perf_counter()\n",
    "    subprocess.run([FQC_BIN, \"-q\", fastq_file, \"-s\", summary_dir], stderr=subprocess.DEVNULL, check=True)\n",
    "    end = time.perf_counter()\n",
    "\n",
    "    return end - start\n",
    "\n",
    "def parse_base_content_fastqc_rs(summary_file: str):\n",
    "    in_section = False\n",
    "    base_counts = defaultdict(list)\n",
    "\n",
    "    with open(summary_file, \"r\") as f:\n",
    "        for line in f:\n",
    "            line = line.strip()\n",
    "\n",
    "            if line.startswith(\">>Per base sequence content\"):\n",
    "                in_section = True\n",
    "                continue\n",
    "\n",
    "            if in_section and line.startswith(\">>END_MODULE\"):\n",
    "                break\n",
    "\n",
    "            if in_section and (line.startswith(\"#\") or line == \"pass\"):\n",
    "                continue\n",
    "\n",
    "            if in_section:\n",
    "                fields = line.split(\"\\t\")\n",
    "                if len(fields) != 5:\n",
    "                    continue\n",
    "                _, g, a, t, c = map(float, fields)\n",
    "                base_counts[\"G\"].append(g)\n",
    "                base_counts[\"A\"].append(a)\n",
    "                base_counts[\"T\"].append(t)\n",
    "                base_counts[\"C\"].append(c)\n",
    "\n",
    "    if not base_counts:\n",
    "        raise ValueError(\"Valid base content data not found in summary.txt\")\n",
    "\n",
    "    avg_base_content = {b: mean(vs) * 100 for b, vs in base_counts.items()}\n",
    "    avg_base_content[\"N\"] = 0.0\n",
    "\n",
    "    return avg_base_content\n",
    "\n",
    "def compare_dicts(d1, d2):\n",
    "    print(\"\\n=== BASE CONTENT COMPARISON (%) ===\")\n",
    "    for base in [\"A\", \"T\", \"G\", \"C\"]:\n",
    "        v1 = d1[base]\n",
    "        v2 = d2[base]\n",
    "        diff = abs(v1 - v2)\n",
    "        print(f\"{base}: polars-bio = {v1:.2f}%, fastqc-rs = {v2:.2f}%, diff = {diff:.3f}%\")\n",
    "\n",
    "base_content_polars, read_time_polars, query_time_polars = run_polars_bio_base_content(FASTQ_FILE, THREADS)\n",
    "time_fastqc = run_fastqc_rs(FASTQ_FILE, HTML_REPORT, SUMMARY_JSON_DIR)\n",
    "base_content_fastqc = parse_base_content_fastqc_rs(SUMMARY_FILE)\n",
    "\n",
    "os.remove(SUMMARY_FILE)\n",
    "os.rmdir(SUMMARY_JSON_DIR)\n",
    "\n"
   ]
  },
  {
   "cell_type": "code",
   "execution_count": 3,
   "metadata": {},
   "outputs": [
    {
     "name": "stdout",
     "output_type": "stream",
     "text": [
      "\n",
      "=== BASE CONTENT COMPARISON (%) ===\n",
      "A: polars-bio = 30.15%, fastqc-rs = 30.15%, diff = 0.000%\n",
      "T: polars-bio = 30.12%, fastqc-rs = 30.12%, diff = 0.000%\n",
      "G: polars-bio = 20.00%, fastqc-rs = 20.00%, diff = 0.000%\n",
      "C: polars-bio = 19.71%, fastqc-rs = 19.71%, diff = 0.000%\n",
      "\n",
      "=== POLARS-BIO TIMING ===\n",
      "Read time    : 4.585 s\n",
      "Query time   : 8.061 s\n",
      "Total (R+Q)  : 12.645 s\n",
      "\n",
      "=== FASTQC-RS TIMING ===\n",
      "Total time   : 33.530 s\n"
     ]
    }
   ],
   "source": [
    "compare_dicts(base_content_polars, base_content_fastqc)\n",
    "\n",
    "print(\"\\n=== POLARS-BIO TIMING ===\")\n",
    "print(f\"Read time    : {read_time_polars:.3f} s\")\n",
    "print(f\"Query time   : {query_time_polars:.3f} s\")\n",
    "print(f\"Total (R+Q)  : {read_time_polars + query_time_polars:.3f} s\")\n",
    "\n",
    "print(\"\\n=== FASTQC-RS TIMING ===\")\n",
    "print(f\"Total time   : {time_fastqc:.3f} s\")"
   ]
  },
  {
   "cell_type": "markdown",
   "metadata": {},
   "source": [
    "Then we modified fastqc-rs to only perform base content calculation. Here are the results for one core with in mem processing:"
   ]
  },
  {
   "cell_type": "code",
   "execution_count": null,
   "metadata": {},
   "outputs": [],
   "source": [
    "import subprocess\n",
    "import time\n",
    "import polars_bio as pb\n",
    "import os\n",
    "import json\n",
    "from statistics import mean\n",
    "from collections import defaultdict\n",
    "\n",
    "FASTQ_FILE = \"../tests/data/ERR194147.fastq\"\n",
    "HTML_REPORT = \"fastqc_rs_report.html\"\n",
    "SUMMARY_JSON_DIR = \"../fastqc_rs_output2\"\n",
    "SUMMARY_FILE = os.path.join(SUMMARY_JSON_DIR, \"fastqc_data.txt\")\n",
    "THREADS = 1\n",
    "FQC_BIN = \"../fqc\"\n",
    "\n",
    "def run_polars_bio_base_content(fastq_file: str, threads: int):\n",
    "    pb.ctx.set_option(\"datafusion.execution.target_partitions\", str(threads))\n",
    "\n",
    "    start_read = time.perf_counter()\n",
    "    df = pb.read_fastq(fastq_file).collect()\n",
    "    end_read = time.perf_counter()\n",
    "    read_time = end_read - start_read\n",
    "\n",
    "    start_query = time.perf_counter()\n",
    "    df = pb.sql(\"select base_content(sequence) from ERR194147\").collect()\n",
    "    end_query = time.perf_counter()\n",
    "    query_time = end_query - start_query\n",
    "    df_unnested = df.unnest(\"base_content(err194147.sequence)\")\n",
    "\n",
    "    bases = {\"A\": [], \"T\": [], \"G\": [], \"C\": [], \"N\": []}\n",
    "    for row in df_unnested.iter_rows(named=True):\n",
    "        bases[\"A\"].append(row[\"A\"])\n",
    "        bases[\"T\"].append(row[\"T\"])\n",
    "        bases[\"G\"].append(row[\"G\"])\n",
    "        bases[\"C\"].append(row[\"C\"])\n",
    "        bases[\"N\"].append(row[\"N\"])\n",
    "\n",
    "    avg_base_content = {b: mean(values) for b, values in bases.items()}\n",
    "    return avg_base_content, read_time, query_time\n",
    "\n",
    "def run_fastqc_rs(fastq_file: str, html_output_file: str, summary_dir: str):\n",
    "    os.makedirs(summary_dir, exist_ok=True)\n",
    "\n",
    "    start = time.perf_counter()\n",
    "    subprocess.run([FQC_BIN, \"-q\", fastq_file, \"-s\", summary_dir], stderr=subprocess.DEVNULL, check=True)\n",
    "    end = time.perf_counter()\n",
    "\n",
    "    return end - start\n",
    "\n",
    "def parse_base_content_fastqc_rs(summary_file: str):\n",
    "    in_section = False\n",
    "    base_counts = defaultdict(list)\n",
    "\n",
    "    with open(summary_file, \"r\") as f:\n",
    "        for line in f:\n",
    "            line = line.strip()\n",
    "\n",
    "            if line.startswith(\">>Per base sequence content\"):\n",
    "                in_section = True\n",
    "                continue\n",
    "\n",
    "            if in_section and line.startswith(\">>END_MODULE\"):\n",
    "                break\n",
    "\n",
    "            if in_section and (line.startswith(\"#\") or line == \"pass\"):\n",
    "                continue\n",
    "\n",
    "            if in_section:\n",
    "                fields = line.split(\"\\t\")\n",
    "                if len(fields) != 5:\n",
    "                    continue\n",
    "                _, g, a, t, c = map(float, fields)\n",
    "                base_counts[\"G\"].append(g)\n",
    "                base_counts[\"A\"].append(a)\n",
    "                base_counts[\"T\"].append(t)\n",
    "                base_counts[\"C\"].append(c)\n",
    "\n",
    "    if not base_counts:\n",
    "        raise ValueError(\"Valid base content data not found in summary.txt\")\n",
    "\n",
    "    avg_base_content = {b: mean(vs) * 100 for b, vs in base_counts.items()}\n",
    "    avg_base_content[\"N\"] = 0.0\n",
    "\n",
    "    return avg_base_content\n",
    "\n",
    "def compare_dicts(d1, d2):\n",
    "    print(\"\\n=== BASE CONTENT COMPARISON (%) ===\")\n",
    "    for base in [\"A\", \"T\", \"G\", \"C\"]:\n",
    "        v1 = d1[base]\n",
    "        v2 = d2[base]\n",
    "        diff = abs(v1 - v2)\n",
    "        print(f\"{base}: polars-bio = {v1:.2f}%, fastqc-rs = {v2:.2f}%, diff = {diff:.3f}%\")\n",
    "\n",
    "base_content_polars, read_time_polars, query_time_polars = run_polars_bio_base_content(FASTQ_FILE, THREADS)\n",
    "time_fastqc = run_fastqc_rs(FASTQ_FILE, HTML_REPORT, SUMMARY_JSON_DIR)\n",
    "base_content_fastqc = parse_base_content_fastqc_rs(SUMMARY_FILE)\n",
    "\n",
    "os.remove(SUMMARY_FILE)\n",
    "os.rmdir(SUMMARY_JSON_DIR)\n",
    "\n"
   ]
  },
  {
   "cell_type": "code",
   "execution_count": 5,
   "metadata": {},
   "outputs": [
    {
     "name": "stdout",
     "output_type": "stream",
     "text": [
      "\n",
      "=== BASE CONTENT COMPARISON (%) ===\n",
      "A: polars-bio = 30.15%, fastqc-rs = 30.15%, diff = 0.000%\n",
      "T: polars-bio = 30.12%, fastqc-rs = 30.12%, diff = 0.000%\n",
      "G: polars-bio = 20.00%, fastqc-rs = 20.00%, diff = 0.000%\n",
      "C: polars-bio = 19.71%, fastqc-rs = 19.71%, diff = 0.000%\n",
      "\n",
      "=== POLARS-BIO TIMING ===\n",
      "Read time    : 4.440 s\n",
      "Query time   : 8.392 s\n",
      "Total (R+Q)  : 12.832 s\n",
      "\n",
      "=== FASTQC-RS TIMING ===\n",
      "Total time   : 10.046 s\n"
     ]
    }
   ],
   "source": [
    "compare_dicts(base_content_polars, base_content_fastqc)\n",
    "\n",
    "print(\"\\n=== POLARS-BIO TIMING ===\")\n",
    "print(f\"Read time    : {read_time_polars:.3f} s\")\n",
    "print(f\"Query time   : {query_time_polars:.3f} s\")\n",
    "print(f\"Total (R+Q)  : {read_time_polars + query_time_polars:.3f} s\")\n",
    "\n",
    "print(\"\\n=== FASTQC-RS TIMING ===\")\n",
    "print(f\"Total time   : {time_fastqc:.3f} s\")"
   ]
  },
  {
   "cell_type": "markdown",
   "metadata": {},
   "source": [
    "And here is result with 8 threads with in mem processing::"
   ]
  },
  {
   "cell_type": "code",
   "execution_count": null,
   "metadata": {},
   "outputs": [],
   "source": [
    "import os\n",
    "FASTQ_FILE = \"../tests/data/ERR194147.fastq\"\n",
    "HTML_REPORT = \"fastqc_rs_report.html\"\n",
    "SUMMARY_JSON_DIR = \"../fastqc_rs_output2\"\n",
    "SUMMARY_FILE = os.path.join(SUMMARY_JSON_DIR, \"fastqc_data.txt\")\n",
    "THREADS = 8\n",
    "FQC_BIN = \"../fqc\"\n",
    "\n",
    "\n",
    "base_content_polars, read_time_polars, query_time_polars = run_polars_bio_base_content(FASTQ_FILE, THREADS)\n",
    "time_fastqc = run_fastqc_rs(FASTQ_FILE, HTML_REPORT, SUMMARY_JSON_DIR)\n",
    "base_content_fastqc = parse_base_content_fastqc_rs(SUMMARY_FILE)\n",
    "\n",
    "os.remove(SUMMARY_FILE)\n",
    "os.rmdir(SUMMARY_JSON_DIR)\n",
    "\n"
   ]
  },
  {
   "cell_type": "code",
   "execution_count": 7,
   "metadata": {},
   "outputs": [
    {
     "name": "stdout",
     "output_type": "stream",
     "text": [
      "\n",
      "=== BASE CONTENT COMPARISON (%) ===\n",
      "A: polars-bio = 30.15%, fastqc-rs = 30.15%, diff = 0.000%\n",
      "T: polars-bio = 30.12%, fastqc-rs = 30.12%, diff = 0.000%\n",
      "G: polars-bio = 20.00%, fastqc-rs = 20.00%, diff = 0.000%\n",
      "C: polars-bio = 19.71%, fastqc-rs = 19.71%, diff = 0.000%\n",
      "\n",
      "=== POLARS-BIO TIMING ===\n",
      "Read time    : 4.244 s\n",
      "Query time   : 4.698 s\n",
      "Total (R+Q)  : 8.942 s\n",
      "\n",
      "=== FASTQC-RS TIMING ===\n",
      "Total time   : 9.926 s\n"
     ]
    }
   ],
   "source": [
    "compare_dicts(base_content_polars, base_content_fastqc)\n",
    "\n",
    "print(\"\\n=== POLARS-BIO TIMING ===\")\n",
    "print(f\"Read time    : {read_time_polars:.3f} s\")\n",
    "print(f\"Query time   : {query_time_polars:.3f} s\")\n",
    "print(f\"Total (R+Q)  : {read_time_polars + query_time_polars:.3f} s\")\n",
    "\n",
    "print(\"\\n=== FASTQC-RS TIMING ===\")\n",
    "print(f\"Total time   : {time_fastqc:.3f} s\")"
   ]
  },
  {
   "cell_type": "markdown",
   "metadata": {},
   "source": [
    "And here is result with 1 threads with out of core processing::"
   ]
  },
  {
   "cell_type": "code",
   "execution_count": null,
   "metadata": {},
   "outputs": [],
   "source": [
    "import subprocess\n",
    "import time\n",
    "import polars_bio as pb\n",
    "import os\n",
    "import json\n",
    "from statistics import mean\n",
    "from collections import defaultdict\n",
    "\n",
    "FASTQ_FILE = \"../tests/data/ERR194147.fastq\"\n",
    "HTML_REPORT = \"fastqc_rs_report.html\"\n",
    "SUMMARY_JSON_DIR = \"../fastqc_rs_output2\"\n",
    "SUMMARY_FILE = os.path.join(SUMMARY_JSON_DIR, \"fastqc_data.txt\")\n",
    "THREADS = 1\n",
    "FQC_BIN = \"../fqc\"\n",
    "\n",
    "def run_polars_bio_base_content(fastq_file: str, threads: int):\n",
    "    pb.ctx.set_option(\"datafusion.execution.target_partitions\", str(threads))\n",
    "\n",
    "    start_read = time.perf_counter()\n",
    "    df = pb.read_fastq(fastq_file)\n",
    "    end_read = time.perf_counter()\n",
    "    read_time = end_read - start_read\n",
    "\n",
    "    start_query = time.perf_counter()\n",
    "    df = pb.sql(\"select base_content(sequence) from ERR194147\").collect()\n",
    "    end_query = time.perf_counter()\n",
    "    query_time = end_query - start_query\n",
    "    df_unnested = df.unnest(\"base_content(err194147.sequence)\")\n",
    "\n",
    "    bases = {\"A\": [], \"T\": [], \"G\": [], \"C\": [], \"N\": []}\n",
    "    for row in df_unnested.iter_rows(named=True):\n",
    "        bases[\"A\"].append(row[\"A\"])\n",
    "        bases[\"T\"].append(row[\"T\"])\n",
    "        bases[\"G\"].append(row[\"G\"])\n",
    "        bases[\"C\"].append(row[\"C\"])\n",
    "        bases[\"N\"].append(row[\"N\"])\n",
    "\n",
    "    avg_base_content = {b: mean(values) for b, values in bases.items()}\n",
    "    return avg_base_content, read_time, query_time\n",
    "\n",
    "\n",
    "base_content_polars, read_time_polars, query_time_polars = run_polars_bio_base_content(FASTQ_FILE, THREADS)\n",
    "time_fastqc = run_fastqc_rs(FASTQ_FILE, HTML_REPORT, SUMMARY_JSON_DIR)\n",
    "base_content_fastqc = parse_base_content_fastqc_rs(SUMMARY_FILE)\n",
    "\n",
    "os.remove(SUMMARY_FILE)\n",
    "os.rmdir(SUMMARY_JSON_DIR)"
   ]
  },
  {
   "cell_type": "code",
   "execution_count": 9,
   "metadata": {},
   "outputs": [
    {
     "name": "stdout",
     "output_type": "stream",
     "text": [
      "\n",
      "=== BASE CONTENT COMPARISON (%) ===\n",
      "A: polars-bio = 30.15%, fastqc-rs = 30.15%, diff = 0.000%\n",
      "T: polars-bio = 30.12%, fastqc-rs = 30.12%, diff = 0.000%\n",
      "G: polars-bio = 20.00%, fastqc-rs = 20.00%, diff = 0.000%\n",
      "C: polars-bio = 19.71%, fastqc-rs = 19.71%, diff = 0.000%\n",
      "\n",
      "=== POLARS-BIO TIMING ===\n",
      "Read time    : 0.005 s\n",
      "Query time   : 9.413 s\n",
      "Total (R+Q)  : 9.418 s\n",
      "\n",
      "=== FASTQC-RS TIMING ===\n",
      "Total time   : 10.653 s\n"
     ]
    }
   ],
   "source": [
    "compare_dicts(base_content_polars, base_content_fastqc)\n",
    "\n",
    "print(\"\\n=== POLARS-BIO TIMING ===\")\n",
    "print(f\"Read time    : {read_time_polars:.3f} s\")\n",
    "print(f\"Query time   : {query_time_polars:.3f} s\")\n",
    "print(f\"Total (R+Q)  : {read_time_polars + query_time_polars:.3f} s\")\n",
    "\n",
    "print(\"\\n=== FASTQC-RS TIMING ===\")\n",
    "print(f\"Total time   : {time_fastqc:.3f} s\")"
   ]
  },
  {
   "cell_type": "markdown",
   "metadata": {},
   "source": [
    "And here is result with 8 threads with out of core processing::"
   ]
  },
  {
   "cell_type": "code",
   "execution_count": null,
   "metadata": {},
   "outputs": [],
   "source": [
    "import subprocess\n",
    "import time\n",
    "import polars_bio as pb\n",
    "import os\n",
    "import json\n",
    "from statistics import mean\n",
    "from collections import defaultdict\n",
    "\n",
    "FASTQ_FILE = \"../tests/data/ERR194147.fastq\"\n",
    "HTML_REPORT = \"fastqc_rs_report.html\"\n",
    "SUMMARY_JSON_DIR = \"../fastqc_rs_output2\"\n",
    "SUMMARY_FILE = os.path.join(SUMMARY_JSON_DIR, \"fastqc_data.txt\")\n",
    "THREADS = 8\n",
    "FQC_BIN = \"../fqc\"\n",
    "\n",
    "def run_polars_bio_base_content(fastq_file: str, threads: int):\n",
    "    pb.ctx.set_option(\"datafusion.execution.target_partitions\", str(threads))\n",
    "\n",
    "    start_read = time.perf_counter()\n",
    "    df = pb.read_fastq(fastq_file)\n",
    "    end_read = time.perf_counter()\n",
    "    read_time = end_read - start_read\n",
    "\n",
    "    start_query = time.perf_counter()\n",
    "    df = pb.sql(\"select base_content(sequence) from ERR194147\").collect()\n",
    "    end_query = time.perf_counter()\n",
    "    query_time = end_query - start_query\n",
    "    df_unnested = df.unnest(\"base_content(err194147.sequence)\")\n",
    "\n",
    "    bases = {\"A\": [], \"T\": [], \"G\": [], \"C\": [], \"N\": []}\n",
    "    for row in df_unnested.iter_rows(named=True):\n",
    "        bases[\"A\"].append(row[\"A\"])\n",
    "        bases[\"T\"].append(row[\"T\"])\n",
    "        bases[\"G\"].append(row[\"G\"])\n",
    "        bases[\"C\"].append(row[\"C\"])\n",
    "        bases[\"N\"].append(row[\"N\"])\n",
    "\n",
    "    avg_base_content = {b: mean(values) for b, values in bases.items()}\n",
    "    return avg_base_content, read_time, query_time\n",
    "\n",
    "\n",
    "base_content_polars, read_time_polars, query_time_polars = run_polars_bio_base_content(FASTQ_FILE, THREADS)\n",
    "time_fastqc = run_fastqc_rs(FASTQ_FILE, HTML_REPORT, SUMMARY_JSON_DIR)\n",
    "base_content_fastqc = parse_base_content_fastqc_rs(SUMMARY_FILE)\n",
    "\n",
    "os.remove(SUMMARY_FILE)\n",
    "os.rmdir(SUMMARY_JSON_DIR)"
   ]
  },
  {
   "cell_type": "code",
   "execution_count": 11,
   "metadata": {},
   "outputs": [
    {
     "name": "stdout",
     "output_type": "stream",
     "text": [
      "\n",
      "=== BASE CONTENT COMPARISON (%) ===\n",
      "A: polars-bio = 30.15%, fastqc-rs = 30.15%, diff = 0.000%\n",
      "T: polars-bio = 30.12%, fastqc-rs = 30.12%, diff = 0.000%\n",
      "G: polars-bio = 20.00%, fastqc-rs = 20.00%, diff = 0.000%\n",
      "C: polars-bio = 19.71%, fastqc-rs = 19.71%, diff = 0.000%\n",
      "\n",
      "=== POLARS-BIO TIMING ===\n",
      "Read time    : 0.004 s\n",
      "Query time   : 6.942 s\n",
      "Total (R+Q)  : 6.945 s\n",
      "\n",
      "=== FASTQC-RS TIMING ===\n",
      "Total time   : 10.405 s\n"
     ]
    }
   ],
   "source": [
    "compare_dicts(base_content_polars, base_content_fastqc)\n",
    "\n",
    "print(\"\\n=== POLARS-BIO TIMING ===\")\n",
    "print(f\"Read time    : {read_time_polars:.3f} s\")\n",
    "print(f\"Query time   : {query_time_polars:.3f} s\")\n",
    "print(f\"Total (R+Q)  : {read_time_polars + query_time_polars:.3f} s\")\n",
    "\n",
    "print(\"\\n=== FASTQC-RS TIMING ===\")\n",
    "print(f\"Total time   : {time_fastqc:.3f} s\")"
   ]
  },
  {
   "cell_type": "markdown",
   "metadata": {},
   "source": [
    "## Conclusion\n",
    "\n",
    "In this notebook, we demonstrated how to use the `base_content` function from the `polars_bio.qc` module to analyze and visualize the base sequence content of FASTQ files. This QC operation helps identify biases or issues in the sequencing process.\n",
    "\n",
    "Key points:\n",
    "- The function calculates the percentage of each base (A, T, G, C, N) at each position in the reads\n",
    "- It supports different input types (Polars DataFrame, Polars LazyFrame, Pandas DataFrame)\n",
    "- The operation can be parallelized for better performance on larger datasets\n",
    "- The results can be easily visualized to identify patterns or anomalies in the data\n",
    "\n",
    "This QC operation is an essential part of NGS data analysis pipelines, helping researchers ensure the quality of their sequencing data before proceeding with downstream analyses."
   ]
  }
 ],
 "metadata": {
  "kernelspec": {
   "display_name": ".venv",
   "language": "python",
   "name": "python3"
  },
  "language_info": {
   "codemirror_mode": {
    "name": "ipython",
    "version": 3
   },
   "file_extension": ".py",
   "mimetype": "text/x-python",
   "name": "python",
   "nbconvert_exporter": "python",
   "pygments_lexer": "ipython3",
   "version": "3.10.12"
  }
 },
 "nbformat": 4,
 "nbformat_minor": 4
}
