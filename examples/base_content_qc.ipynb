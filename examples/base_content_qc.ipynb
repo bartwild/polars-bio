{
    "cells": [
     {
      "cell_type": "markdown",
      "metadata": {},
      "source": [
       "# Base Sequence Content QC for NGS Data\n",
       "\n",
       "This notebook demonstrates how to use the `base_content` function from the `polars_bio.qc` module to analyze the base sequence content of FASTQ files. This QC operation helps identify biases or issues in the sequencing process by showing the distribution of nucleotide bases (A, T, G, C, N) at each position in the reads."
      ]
     },
     {
      "cell_type": "code",
      "execution_count": null,
      "metadata": {},
      "source": [
       "import polars_bio as pb\n",
       "import polars as pl\n",
       "import pandas as pd\n",
       "import matplotlib.pyplot as plt\n",
       "import numpy as np\n",
       "import os\n",
       "\n",
       "# Set plotting style\n",
       "plt.style.use('ggplot')\n",
       "plt.rcParams['figure.figsize'] = (12, 6)"
      ]
     },
     {
      "cell_type": "markdown",
      "metadata": {},
      "source": [
       "## Loading FASTQ Data\n",
       "\n",
       "First, let's load a FASTQ file using the `read_fastq` function from polars-bio. We'll use the example FASTQ file from the fastqc-rs project."
      ]
     },
     {
      "cell_type": "code",
      "execution_count": null,
      "metadata": {},
      "source": [
       "# Path to the example FASTQ file\n",
       "fastq_file = \"../tests/data/io/fastq/test.fastq\"\n",
       "\n",
       "# Read the FASTQ file\n",
       "df = pb.read_fastq(fastq_file).collect()\n",
       "\n",
       "# Display the first few rows\n",
       "df.head()"
      ]
     },
     {
      "cell_type": "markdown",
      "metadata": {},
      "source": [
       "## Analyzing Base Sequence Content\n",
       "\n",
       "Now, let's analyze the base sequence content using the `base_content` function. This function calculates the percentage of each base (A, T, G, C, N) at each position in the reads."
      ]
     },
     {
      "cell_type": "code",
      "execution_count": null,
      "metadata": {},
      "source": [
        "# Calculate base content\n",
        "base_content_df = pb.qc.base_content(df)\n",
        "\n",
        "# Display the first few rows of the result\n",
        "base_content_df.head()"
       ]
      },
      {
       "cell_type": "markdown",
       "metadata": {},
       "source": [
        "## Visualizing Base Sequence Content\n",
        "\n",
        "Let's visualize the base content distribution across positions using the `visualize_base_content` function."
       ]
      },
      {
       "cell_type": "code",
       "execution_count": null,
       "metadata": {},
       "source": [
        "# Visualize base content\n",
        "pb.qc.visualize_base_content(base_content_df)"
       ]
      },
      {
       "cell_type": "markdown",
       "metadata": {},
       "source": [
        "## Custom Visualization\n",
        "\n",
        "We can also create a custom visualization of the base content data using matplotlib directly."
       ]
      },
      {
       "cell_type": "code",
       "execution_count": null,
       "metadata": {},
       "source": [
        "# Convert to pandas for easier plotting\n",
        "pdf = base_content_df.to_pandas()\n",
        "\n",
        "# Create a figure and axis\n",
        "fig, ax = plt.subplots(figsize=(14, 8))\n",
        "\n",
        "# Plot each base\n",
        "ax.plot(pdf['position'], pdf['A'], '-', label='A', color='green', linewidth=2)\n",
        "ax.plot(pdf['position'], pdf['C'], '-', label='C', color='blue', linewidth=2)\n",
        "ax.plot(pdf['position'], pdf['G'], '-', label='G', color='black', linewidth=2)\n",
        "ax.plot(pdf['position'], pdf['T'], '-', label='T', color='red', linewidth=2)\n",
        "ax.plot(pdf['position'], pdf['N'], '-', label='N', color='gray', linewidth=2)\n",
        "\n",
        "# Add a horizontal line at 25% (expected for random distribution)\n",
        "ax.axhline(y=25, color='gray', linestyle='--', alpha=0.5)\n",
        "\n",
        "# Set labels and title\n",
        "ax.set_xlabel('Position in read (bp)', fontsize=12)\n",
        "ax.set_ylabel('Percentage', fontsize=12)\n",
        "ax.set_title('Base Content Across All Positions', fontsize=14)\n",
        "\n",
        "# Add legend\n",
        "ax.legend(fontsize=12)\n",
        "\n",
        "# Set y-axis limits\n",
        "ax.set_ylim(0, 100)\n",
        "\n",
        "# Add grid\n",
        "ax.grid(True, alpha=0.3)\n",
        "\n",
        "# Show the plot\n",
        "plt.tight_layout()\n",
        "plt.show()"
       ]
      },
      {
       "cell_type": "markdown",
       "metadata": {},
       "source": [
        "## Analyzing Base Content with Different Input Types\n",
        "\n",
        "The `base_content` function supports different input types, including Polars DataFrame, Polars LazyFrame, and Pandas DataFrame. Let's demonstrate this flexibility."
       ]
      },
      {
       "cell_type": "code",
       "execution_count": null,
       "metadata": {},
       "source": [
        "# Using a Polars LazyFrame\n",
        "lazy_df = df.lazy()\n",
        "lazy_result = pb.qc.base_content(lazy_df)\n",
        "print(f\"Result type with LazyFrame input: {type(lazy_result)}\")\n",
        "lazy_result.head()"
       ]
      },
      {
       "cell_type": "code",
       "execution_count": null,
       "metadata": {},
       "source": [
        "# Using a Pandas DataFrame\n",
        "pandas_df = df.to_pandas()\n",
        "pandas_result = pb.qc.base_content(pandas_df, output_type=\"pandas.DataFrame\")\n",
        "print(f\"Result type with Pandas DataFrame input: {type(pandas_result)}\")\n",
        "pandas_result.head()"
       ]
      },
      {
       "cell_type": "markdown",
       "metadata": {},
       "source": [
        "## Performance Comparison\n",
        "\n",
        "Let's compare the performance of the base content calculation with different numbers of threads."
       ]
      },
      {
       "cell_type": "code",
       "execution_count": null,
       "metadata": {},
       "source": [
        "import time\n",
        "\n",
        "# Define a function to measure execution time\n",
        "def measure_time(func, *args, **kwargs):\n",
        "    start_time = time.time()\n",
        "    result = func(*args, **kwargs)\n",
        "    end_time = time.time()\n",
        "    return result, end_time - start_time\n",
        "\n",
        "# Test with different numbers of threads\n",
        "thread_counts = [1, 2, 4, 8]\n",
        "execution_times = []\n",
        "\n",
        "for threads in thread_counts:\n",
        "    # Set the number of threads\n",
        "    pb.ctx.set_option(\"datafusion.execution.target_partitions\", str(threads))\n",
        "    \n",
        "    # Measure execution time\n",
        "    _, execution_time = measure_time(pb.qc.base_content, df)\n",
        "    execution_times.append(execution_time)\n",
        "    \n",
        "    print(f\"Threads: {threads}, Execution time: {execution_time:.4f} seconds\")"
       ]
      },
      {
       "cell_type": "code",
       "execution_count": null,
       "metadata": {},
       "source": [
        "# Plot the results\n",
        "plt.figure(figsize=(10, 6))\n",
        "plt.plot(thread_counts, execution_times, 'o-', linewidth=2)\n",
        "plt.xlabel('Number of Threads')\n",
        "plt.ylabel('Execution Time (seconds)')\n",
        "plt.title('Base Content Calculation Performance')\n",
        "plt.grid(True, alpha=0.3)\n",
        "plt.xticks(thread_counts)\n",
        "plt.tight_layout()\n",
        "plt.show()\n",
        "\n",
        "# Calculate speedup\n",
        "baseline_time = execution_times[0]  # Time with 1 thread\n",
        "speedups = [baseline_time / time for time in execution_times]\n",
        "\n",
        "plt.figure(figsize=(10, 6))\n",
        "plt.plot(thread_counts, speedups, 'o-', linewidth=2, color='green')\n",
        "plt.xlabel('Number of Threads')\n",
        "plt.ylabel('Speedup (relative to 1 thread)')\n",
        "plt.title('Base Content Calculation Speedup')\n",
        "plt.grid(True, alpha=0.3)\n",
        "plt.xticks(thread_counts)\n",
        "plt.tight_layout()\n",
        "plt.show()"
       ]
      },
      {
       "cell_type": "markdown",
       "metadata": {},
       "source": [
        "## Conclusion\n",
        "\n",
        "In this notebook, we demonstrated how to use the `base_content` function from the `polars_bio.qc` module to analyze and visualize the base sequence content of FASTQ files. This QC operation helps identify biases or issues in the sequencing process.\n",
        "\n",
        "Key points:\n",
        "- The function calculates the percentage of each base (A, T, G, C, N) at each position in the reads\n",
        "- It supports different input types (Polars DataFrame, Polars LazyFrame, Pandas DataFrame)\n",
        "- The operation can be parallelized for better performance on larger datasets\n",
        "- The results can be easily visualized to identify patterns or anomalies in the data\n",
        "\n",
        "This QC operation is an essential part of NGS data analysis pipelines, helping researchers ensure the quality of their sequencing data before proceeding with downstream analyses."
       ]
      }
     ],
     "metadata": {
      "kernelspec": {
       "display_name": "Python 3",
       "language": "python",
       "name": "python3"
      },
      "language_info": {
       "codemirror_mode": {
        "name": "ipython",
        "version": 3
       },
       "file_extension": ".py",
       "mimetype": "text/x-python",
       "name": "python",
       "nbconvert_exporter": "python",
       "pygments_lexer": "ipython3",
       "version": "3.8.10"
      }
     },
     "nbformat": 4,
     "nbformat_minor": 4
    }